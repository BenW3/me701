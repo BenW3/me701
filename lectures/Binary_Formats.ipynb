{
 "cells": [
  {
   "cell_type": "markdown",
   "metadata": {
    "slideshow": {
     "slide_type": "slide"
    }
   },
   "source": [
    "# Binary Formats\n",
    "\n",
    "Last time, we worked directly with byte-level data.  Input and output of binary data is reasonably straightforward given a known structure.  It is common for commercial software to use [proprietary data formats](https://en.wikipedia.org/wiki/Proprietary_software#Proprietary_file_formats_and_protocols), and [hundreds of formats](https://en.wikipedia.org/wiki/List_of_file_formats) exist for a wide variety of applications.  In the scientific community, a variety of [formats](https://en.wikipedia.org/wiki/List_of_file_formats#Scientific_data_(data_exchange)) were developed to facilitate the exchange of large, scientific data sets, including the popular [HDF5 format](https://portal.hdfgroup.org/display/HDF5/HDF5).  Other formats have been developed specifically to support visualization of large data sets; of these, we'll explore the [VTK formats](https://vtk.org/wp-content/uploads/2015/04/file-formats.pdf).  Although the HDF5 and VTK formats have very different purposes, their specifications are well developed and serve as good examples for those navigating the use of such third-party formats."
   ]
  },
  {
   "cell_type": "markdown",
   "metadata": {
    "slideshow": {
     "slide_type": "slide"
    }
   },
   "source": [
    "## HDF5\n",
    "\n",
    "Of the scientific-data  developed, perhaps the [Hierarchical Data Format](https://en.wikipedia.org/wiki/Hierarchical_Data_Format) is the most widely used."
   ]
  },
  {
   "cell_type": "markdown",
   "metadata": {
    "slideshow": {
     "slide_type": "fragment"
    }
   },
   "source": [
    "The actual, on-file, binary format is rarely important to know, but the in-file, data structure is.  "
   ]
  },
  {
   "cell_type": "markdown",
   "metadata": {
    "slideshow": {
     "slide_type": "subslide"
    }
   },
   "source": [
    "\n",
    "That [structure is like a file directory](https://portal.hdfgroup.org/display/HDF5/Introduction+to+HDF5#IntroductiontoHDF5-hdf5desc):\n",
    "\n",
    "```python\n",
    "/                 # root GROUP\n",
    "/SimOut/          ## GROUP containing simulation output\n",
    "  data2darray     ## a DATASET, 2-D array of doubles\n",
    "        DATATYPE: H5T_NATIVE_DOUBLE,\n",
    "       DATASPACE: {rank:2, dim=(5,3)},\n",
    "      PROPERTIES: {layout: contiguous},\n",
    "      ATTRIBUTES: {name1: value1, name2: value2, ...}\n",
    "            DATA: ...\n",
    "  data3darray     ## a DATASET, 3-D array of integers\n",
    "        DATATYPE: H5T_NATIVE_INT,\n",
    "       DATASPACE: {rank:3, dim=(4,3,2)},\n",
    "      PROPERTIES: {layout: contiguous},\n",
    "      ATTRIBUTES: {...}\n",
    "            DATA: ...\n",
    "/Viz/             ## GROUP containing viz output\n",
    "  metadata=\n",
    "    {ATTRIBUTES: {...} # groups can have attributes\n",
    "  image1          ## a DATASET, an image (2-D array?)\n",
    "    ...\n",
    "  image2  \n",
    "     .... and so on\n",
    "```"
   ]
  },
  {
   "cell_type": "markdown",
   "metadata": {
    "slideshow": {
     "slide_type": "subslide"
    }
   },
   "source": [
    "### Creating an HDF5 File"
   ]
  },
  {
   "cell_type": "code",
   "execution_count": 1,
   "metadata": {
    "slideshow": {
     "slide_type": "fragment"
    }
   },
   "outputs": [],
   "source": [
    "import h5py\n",
    "import numpy as np\n",
    "name =  'mytestfile.hdf5'\n",
    "!rm mytestfile.hdf5 # makes sure it's not already there\n",
    "fh = h5py.File('mytestfile.hdf5', 'w')\n",
    "SimOut = fh.create_group('SimOut')\n",
    "data2darray = SimOut.create_dataset(\"data2darray\", data=np.random.randint(0, 10, (5, 4)))\n",
    "data2darray.attrs[\"name1\"] = \"value1\"\n",
    "data2darray.attrs[\"name2\"] = \"value2\"\n",
    "data3darray = SimOut.create_dataset(\"data3darray\", data=np.random.rand(4,3,2))\n",
    "Viz = fh.create_group('Viz')\n",
    "image1 = Viz.create_dataset(\"image1\", data=[1,2,3])\n",
    "image2 = Viz.create_dataset(\"image2\", data=[2,3,4])\n",
    "fh.close()"
   ]
  },
  {
   "cell_type": "code",
   "execution_count": 2,
   "metadata": {
    "slideshow": {
     "slide_type": "subslide"
    }
   },
   "outputs": [
    {
     "name": "stdout",
     "output_type": "stream",
     "text": [
      "HDF5 \"mytestfile.hdf5\" {\r\n",
      "GROUP \"/\" {\r\n",
      "   GROUP \"SimOut\" {\r\n",
      "      DATASET \"data2darray\" {\r\n",
      "         DATATYPE  H5T_STD_I64LE\r\n",
      "         DATASPACE  SIMPLE { ( 5, 4 ) / ( 5, 4 ) }\r\n",
      "         DATA {\r\n",
      "         (0,0): 4, 6, 2, 2,\r\n",
      "         (1,0): 0, 7, 0, 6,\r\n",
      "         (2,0): 6, 9, 0, 1,\r\n",
      "         (3,0): 3, 2, 7, 3,\r\n",
      "         (4,0): 1, 0, 4, 5\r\n",
      "         }\r\n",
      "         ATTRIBUTE \"name1\" {\r\n",
      "            DATATYPE  H5T_STRING {\r\n",
      "               STRSIZE H5T_VARIABLE;\r\n",
      "               STRPAD H5T_STR_NULLTERM;\r\n",
      "               CSET H5T_CSET_UTF8;\r\n",
      "               CTYPE H5T_C_S1;\r\n",
      "            }\r\n",
      "            DATASPACE  SCALAR\r\n",
      "            DATA {\r\n",
      "            (0): \"value1\"\r\n",
      "            }\r\n",
      "         }\r\n",
      "         ATTRIBUTE \"name2\" {\r\n",
      "            DATATYPE  H5T_STRING {\r\n",
      "               STRSIZE H5T_VARIABLE;\r\n",
      "               STRPAD H5T_STR_NULLTERM;\r\n",
      "               CSET H5T_CSET_UTF8;\r\n",
      "               CTYPE H5T_C_S1;\r\n",
      "            }\r\n",
      "            DATASPACE  SCALAR\r\n",
      "            DATA {\r\n",
      "            (0): \"value2\"\r\n",
      "            }\r\n",
      "         }\r\n",
      "      }\r\n",
      "      DATASET \"data3darray\" {\r\n",
      "         DATATYPE  H5T_IEEE_F64LE\r\n",
      "         DATASPACE  SIMPLE { ( 4, 3, 2 ) / ( 4, 3, 2 ) }\r\n",
      "         DATA {\r\n",
      "         (0,0,0): 0.839275, 0.39284,\r\n",
      "         (0,1,0): 0.400557, 0.961276,\r\n",
      "         (0,2,0): 0.474924, 0.159405,\r\n",
      "         (1,0,0): 0.486352, 0.197379,\r\n",
      "         (1,1,0): 0.753462, 0.224511,\r\n",
      "         (1,2,0): 0.941027, 0.33922,\r\n",
      "         (2,0,0): 0.535182, 0.591121,\r\n",
      "         (2,1,0): 0.65015, 0.861905,\r\n",
      "         (2,2,0): 0.915136, 0.533304,\r\n",
      "         (3,0,0): 0.783384, 0.607053,\r\n",
      "         (3,1,0): 0.374425, 0.718339,\r\n",
      "         (3,2,0): 0.284565, 0.225558\r\n",
      "         }\r\n",
      "      }\r\n",
      "   }\r\n",
      "   GROUP \"Viz\" {\r\n",
      "      DATASET \"image1\" {\r\n",
      "         DATATYPE  H5T_STD_I64LE\r\n",
      "         DATASPACE  SIMPLE { ( 3 ) / ( 3 ) }\r\n",
      "         DATA {\r\n",
      "         (0): 1, 2, 3\r\n",
      "         }\r\n",
      "      }\r\n",
      "      DATASET \"image2\" {\r\n",
      "         DATATYPE  H5T_STD_I64LE\r\n",
      "         DATASPACE  SIMPLE { ( 3 ) / ( 3 ) }\r\n",
      "         DATA {\r\n",
      "         (0): 2, 3, 4\r\n",
      "         }\r\n",
      "      }\r\n",
      "   }\r\n",
      "}\r\n",
      "}\r\n"
     ]
    }
   ],
   "source": [
    "!h5dump mytestfile.hdf5"
   ]
  },
  {
   "cell_type": "markdown",
   "metadata": {
    "slideshow": {
     "slide_type": "subslide"
    }
   },
   "source": [
    "### Reading an HDF5 File \n",
    "\n",
    "Writing it out is easy enough, but how do we get that back in?"
   ]
  },
  {
   "cell_type": "code",
   "execution_count": 3,
   "metadata": {
    "slideshow": {
     "slide_type": "fragment"
    }
   },
   "outputs": [
    {
     "name": "stdout",
     "output_type": "stream",
     "text": [
      "shape =  (5, 4)\n",
      "data =  [[4 6 2 2]\n",
      " [0 7 0 6]\n",
      " [6 9 0 1]\n",
      " [3 2 7 3]\n",
      " [1 0 4 5]]\n"
     ]
    }
   ],
   "source": [
    "import h5py\n",
    "import numpy as np\n",
    "name =  'mytestfile.hdf5'\n",
    "fh = h5py.File('mytestfile.hdf5', 'r')\n",
    "d2da = fh.get(\"/SimOut/data2darray\")\n",
    "print(\"shape = \", d2da.shape)\n",
    "print(\"data = \", d2da[()]) # or d2da.value, which is deprecated\n",
    "fh.close()"
   ]
  },
  {
   "cell_type": "markdown",
   "metadata": {
    "slideshow": {
     "slide_type": "fragment"
    }
   },
   "source": [
    "The reason HDF5 is so useful is because this API is available in the core C/C++ language used to build HDF5 and several other languages (Python, MATLAB, Fortran, etc.)."
   ]
  },
  {
   "cell_type": "markdown",
   "metadata": {
    "slideshow": {
     "slide_type": "slide"
    }
   },
   "source": [
    "## VTK\n",
    "\n",
    "The Visualization Toolkit (VTK) defines a variety of formats for storing data in a way that is easy to load, inspect, and modify in visualization tools like [Paraview]() and [VisIt]().  "
   ]
  },
  {
   "cell_type": "markdown",
   "metadata": {
    "slideshow": {
     "slide_type": "fragment"
    }
   },
   "source": [
    "VTK defiens two broad classes of data formats: the [legacy](https://lorensen.github.io/VTKExamples/site/VTKFileFormats/#simple-legacy-formats) formats and the [XML](https://lorensen.github.io/VTKExamples/site/VTKFileFormats/#xml-file-formats) formats.  Despite being \"legacy\", these formats are still widely used.  The XML variants give a bit more flexibility for parallel file input and output, but the underlying data organization is quite similar.  Here, we'll explore the legacy formats."
   ]
  },
  {
   "cell_type": "markdown",
   "metadata": {
    "slideshow": {
     "slide_type": "subslide"
    }
   },
   "source": [
    "### Making a VTK File In Text Format\n",
    "\n",
    "The VTK formats are easy enough to write directly to ASCII-formatted text files.  For large data, the binary variants of these formats is preferred, so we'll start with the text version and then do the same in binary using the `vtk` module."
   ]
  },
  {
   "cell_type": "markdown",
   "metadata": {
    "slideshow": {
     "slide_type": "subslide"
    }
   },
   "source": [
    "For some sample data, we'll evaluate the function $f(x,y,z) = xy^2\\sin(z)$ on the grid $x,y,z \\in [0, 1]$.  Here, we'll use 3, 4, and 5 equally-spaced divisions in each dimension.  We'll also define the 3-component gradient:"
   ]
  },
  {
   "cell_type": "code",
   "execution_count": 4,
   "metadata": {
    "slideshow": {
     "slide_type": "fragment"
    }
   },
   "outputs": [],
   "source": [
    "x = np.linspace(0, 1, 2)\n",
    "y = np.linspace(0, 1, 3)\n",
    "z = np.linspace(0, 1, 4)\n",
    "xx, yy, zz = np.meshgrid(x, y, z, indexing='ij')\n",
    "f = ((xx+1)*(yy+1)**2*np.sin(zz))\n",
    "fx, fy, fz = np.gradient(f, x, y, z)\n",
    "f = f.flatten()\n",
    "grad_f = np.array([fx.flatten(), fy.flatten(), fz.flatten()]).T"
   ]
  },
  {
   "cell_type": "markdown",
   "metadata": {
    "slideshow": {
     "slide_type": "subslide"
    }
   },
   "source": [
    "The legacy formats all share a basic form, but the specifics differ enough that we can just dive in.  For the data we have, two legacy formats are applicable: the *Structured Grid* and *Rectilinear Grid* formats.  The former applies whenever the spacing is constant along an axis.  The latter lets us define points with variable spacing, and we'll use this for generality.  The basic format (with my `// comments`) is\n",
    "\n",
    "```\n",
    "# vtk DataFile Version 2.0 // required header\n",
    "DATASET RECTILINEAR_GRID   // the data format\n",
    "DIMENSIONS nx ny nz        // dimensions of the grid\n",
    "X_COORDINATES nx dataType  // dataType here is double\n",
    "x[0] x[1] ... x[nx-1]\n",
    "Y_COORDINATES ny dataType\n",
    "y[0] y[1] ... y[ny-1]\n",
    "Z_COORDINATES nz dataType\n",
    "z[0] z[1] ... z[nz-1]\n",
    "SCALARS name_of_sdata dataType \n",
    "LOOKUP_TABLE tableName     // tableName can be set to default\n",
    "val[0] \n",
    "val[1]\n",
    "...\n",
    "VECTOR name_of_vdata dataType \n",
    "LOOKUP_TABLE tableName     \n",
    "val.x[0] val.y[0] val.z[0]\n",
    "val.x[1] val.y[1] val.z[1]\n",
    "...\n",
    "```"
   ]
  },
  {
   "cell_type": "code",
   "execution_count": 5,
   "metadata": {
    "slideshow": {
     "slide_type": "subslide"
    }
   },
   "outputs": [],
   "source": [
    "def make_vtk_rectilinear_grid(x, y, z, scalar_vals, vector_vals):\n",
    "    return f\"\"\"# vtk DataFile Version 2.0\n",
    "some title\n",
    "ASCII\n",
    "DATASET RECTILINEAR_GRID\n",
    "DIMENSIONS {len(x)} {len(y)} {len(z)}\n",
    "X_COORDINATES {len(x)} double\n",
    " {np.array2string(x, floatmode=\"fixed\")[1:-1]}\n",
    "Y_COORDINATES {len(y)} double\n",
    " {np.array2string(y, floatmode=\"fixed\")[1:-1]}\n",
    "Z_COORDINATES {len(z)} double\n",
    " {np.array2string(z, floatmode=\"fixed\")[1:-1]}\n",
    "POINT_DATA {len(x)*len(y)*len(z)}\n",
    "SCALARS scalar_data double 1\n",
    "LOOKUP_TABLE default\n",
    " {np.array2string(scalar_vals,1,floatmode=\"fixed\").replace('[','').replace(']','')}\n",
    "VECTORS vector_data double\n",
    " {np.array2string(vector_vals,floatmode=\"fixed\").replace('[','').replace(']','')}\n",
    "\"\"\""
   ]
  },
  {
   "cell_type": "code",
   "execution_count": 6,
   "metadata": {
    "slideshow": {
     "slide_type": "subslide"
    }
   },
   "outputs": [
    {
     "name": "stdout",
     "output_type": "stream",
     "text": [
      "# vtk DataFile Version 2.0\n",
      "some title\n",
      "ASCII\n",
      "DATASET RECTILINEAR_GRID\n",
      "DIMENSIONS 2 3 4\n",
      "X_COORDINATES 2 double\n",
      " 0.00000000 1.00000000\n",
      "Y_COORDINATES 3 double\n",
      " 0.00000000 0.50000000 1.00000000\n",
      "Z_COORDINATES 4 double\n",
      " 0.00000000 0.33333333 0.66666667 1.00000000\n",
      "POINT_DATA 24\n",
      "SCALARS scalar_data double 1\n",
      "LOOKUP_TABLE default\n",
      " 0.00000000\n",
      " 0.32719470\n",
      " 0.61836980\n",
      " 0.84147098\n",
      " 0.00000000\n",
      " 0.73618807\n",
      " 1.39133206\n",
      " 1.89330972\n",
      " 0.00000000\n",
      " 1.30877879\n",
      " 2.47347921\n",
      " 3.36588394\n",
      " 0.00000000\n",
      " 0.65438939\n",
      " 1.23673961\n",
      " 1.68294197\n",
      " 0.00000000\n",
      " 1.47237614\n",
      " 2.78266411\n",
      " 3.78661943\n",
      " 0.00000000\n",
      " 2.61755757\n",
      " 4.94695842\n",
      " 6.73176788\n",
      "VECTORS vector_data double\n",
      " 0.00000000 0.00000000 0.98158409\n",
      " 0.32719470 0.81798674 0.92755470\n",
      " 0.61836980 1.54592451 0.77141443\n",
      " 0.84147098 2.10367746 0.66930355\n",
      " 0.00000000 0.00000000 2.20856420\n",
      " 0.73618807 0.98158409 2.08699809\n",
      " 1.39133206 1.85510941 1.73568247\n",
      " 1.89330972 2.52441295 1.50593298\n",
      " 0.00000000 0.00000000 3.92633636\n",
      " 1.30877879 1.14518144 3.71021882\n",
      " 2.47347921 2.16429431 3.08565773\n",
      " 3.36588394 2.94514845 2.67721418\n",
      " 0.00000000 0.00000000 1.96316818\n",
      " 0.32719470 1.63597348 1.85510941\n",
      " 0.61836980 3.09184902 1.54282886\n",
      " 0.84147098 4.20735492 1.33860709\n",
      " 0.00000000 0.00000000 4.41712841\n",
      " 0.73618807 1.96316818 4.17399617\n",
      " 1.39133206 3.71021882 3.47136494\n",
      " 1.89330972 5.04882591 3.01186595\n",
      " 0.00000000 0.00000000 7.85267272\n",
      " 1.30877879 2.29036288 7.42043764\n",
      " 2.47347921 4.32858862 6.17131546\n",
      " 3.36588394 5.89029689 5.35442836\n",
      "\n"
     ]
    }
   ],
   "source": [
    "s = make_vtk_rectilinear_grid(x, y, z, f, grad_f)\n",
    "fh = open(\"rectlin.vtk\", \"w\")\n",
    "fh.write(s)\n",
    "fh.close()\n",
    "print(s)"
   ]
  },
  {
   "cell_type": "markdown",
   "metadata": {
    "slideshow": {
     "slide_type": "subslide"
    }
   },
   "source": [
    "Let's see if we can open it with the `vtk` module:"
   ]
  },
  {
   "cell_type": "code",
   "execution_count": 7,
   "metadata": {
    "slideshow": {
     "slide_type": "fragment"
    }
   },
   "outputs": [
    {
     "name": "stdout",
     "output_type": "stream",
     "text": [
      "(2, 3, 4)\n"
     ]
    }
   ],
   "source": [
    "import vtk\n",
    "reader = vtk.vtkRectilinearGridReader()\n",
    "reader.SetFileName(\"rectlin.vtk\")\n",
    "reader.ReadAllVectorsOn()\n",
    "reader.ReadAllScalarsOn()\n",
    "reader.Update()\n",
    "data = reader.GetOutput()\n",
    "print(data.GetDimensions())"
   ]
  },
  {
   "cell_type": "code",
   "execution_count": 8,
   "metadata": {
    "slideshow": {
     "slide_type": "fragment"
    }
   },
   "outputs": [
    {
     "name": "stdout",
     "output_type": "stream",
     "text": [
      "vtkPointData (0x7fe047e105f0)\n",
      "  Debug: Off\n",
      "  Modified Time: 254\n",
      "  Reference Count: 2\n",
      "  Registered Events: \n",
      "    Registered Observers:\n",
      "      vtkObserver (0x7fe047e10720)\n",
      "        Event: 33\n",
      "        EventName: ModifiedEvent\n",
      "        Command: 0x7fe047e105b0\n",
      "        Priority: 0\n",
      "        Tag: 1\n",
      "  Number Of Arrays: 2\n",
      "  Array 0 name = scalar_data\n",
      "  Array 1 name = vector_data\n",
      "  Number Of Components: 4\n",
      "  Number Of Tuples: 24\n",
      "  Copy Tuple Flags: ( 1 1 1 1 1 0 1 1 )\n",
      "  Interpolate Flags: ( 1 1 1 1 1 0 0 1 )\n",
      "  Pass Through Flags: ( 1 1 1 1 1 1 1 1 )\n",
      "  Scalars: \n",
      "    Debug: Off\n",
      "    Modified Time: 244\n",
      "    Reference Count: 1\n",
      "    Registered Events: (none)\n",
      "    Name: scalar_data\n",
      "    Data type: double\n",
      "    Size: 25\n",
      "    MaxId: 23\n",
      "    NumberOfComponents: 1\n",
      "    Information: 0x0\n",
      "    Name: scalar_data\n",
      "    Number Of Components: 1\n",
      "    Number Of Tuples: 24\n",
      "    Size: 25\n",
      "    MaxId: 23\n",
      "    LookupTable: (none)\n",
      "  Vectors: \n",
      "    Debug: Off\n",
      "    Modified Time: 251\n",
      "    Reference Count: 1\n",
      "    Registered Events: (none)\n",
      "    Name: vector_data\n",
      "    Data type: double\n",
      "    Size: 75\n",
      "    MaxId: 71\n",
      "    NumberOfComponents: 3\n",
      "    Information: 0x0\n",
      "    Name: vector_data\n",
      "    Number Of Components: 3\n",
      "    Number Of Tuples: 24\n",
      "    Size: 75\n",
      "    MaxId: 71\n",
      "    LookupTable: (none)\n",
      "  Normals: (none)\n",
      "  TCoords: (none)\n",
      "  Tensors: (none)\n",
      "  GlobalIds: (none)\n",
      "  PedigreeIds: (none)\n",
      "  EdgeFlag: (none)\n",
      "\n",
      "\n"
     ]
    }
   ],
   "source": [
    "point_data = data.GetPointData()\n",
    "print(point_data)"
   ]
  },
  {
   "cell_type": "code",
   "execution_count": 9,
   "metadata": {
    "slideshow": {
     "slide_type": "fragment"
    }
   },
   "outputs": [
    {
     "name": "stdout",
     "output_type": "stream",
     "text": [
      "vtkDoubleArray (0x7fe04980ddb0)\n",
      "  Debug: Off\n",
      "  Modified Time: 244\n",
      "  Reference Count: 2\n",
      "  Registered Events: (none)\n",
      "  Name: scalar_data\n",
      "  Data type: double\n",
      "  Size: 25\n",
      "  MaxId: 23\n",
      "  NumberOfComponents: 1\n",
      "  Information: 0x0\n",
      "  Name: scalar_data\n",
      "  Number Of Components: 1\n",
      "  Number Of Tuples: 24\n",
      "  Size: 25\n",
      "  MaxId: 23\n",
      "  LookupTable: (none)\n",
      "\n",
      "\n"
     ]
    }
   ],
   "source": [
    "scalars = point_data.GetArray(0)\n",
    "print(scalars)"
   ]
  },
  {
   "cell_type": "code",
   "execution_count": 10,
   "metadata": {
    "slideshow": {
     "slide_type": "fragment"
    }
   },
   "outputs": [
    {
     "ename": "AttributeError",
     "evalue": "module 'vtkmodules.all' has no attribute 'util'",
     "output_type": "error",
     "traceback": [
      "\u001b[0;31m---------------------------------------------------------------------------\u001b[0m",
      "\u001b[0;31mAttributeError\u001b[0m                            Traceback (most recent call last)",
      "\u001b[0;32m<ipython-input-10-32aac5ddc679>\u001b[0m in \u001b[0;36m<module>\u001b[0;34m\u001b[0m\n\u001b[0;32m----> 1\u001b[0;31m \u001b[0mvtk\u001b[0m\u001b[0;34m.\u001b[0m\u001b[0mutil\u001b[0m\u001b[0;34m.\u001b[0m\u001b[0mnumpy_support\u001b[0m\u001b[0;34m.\u001b[0m\u001b[0mvtk_to_numpy\u001b[0m\u001b[0;34m(\u001b[0m\u001b[0mscalars\u001b[0m\u001b[0;34m)\u001b[0m\u001b[0;34m\u001b[0m\u001b[0;34m\u001b[0m\u001b[0m\n\u001b[0m",
      "\u001b[0;31mAttributeError\u001b[0m: module 'vtkmodules.all' has no attribute 'util'"
     ]
    }
   ],
   "source": [
    "vtk.util.numpy_support.vtk_to_numpy(scalars)"
   ]
  },
  {
   "cell_type": "markdown",
   "metadata": {
    "slideshow": {
     "slide_type": "subslide"
    }
   },
   "source": [
    "The VTK Python interface isn't very well documented, but you can use this and Google to piece together custom processing code.  However, `pyevtk` gives us *some* of this  by default to produce a file in the newer XML (and binary) format:"
   ]
  },
  {
   "cell_type": "code",
   "execution_count": null,
   "metadata": {
    "slideshow": {
     "slide_type": "fragment"
    }
   },
   "outputs": [],
   "source": [
    "import pyevtk\n",
    "pyevtk.hl.gridToVTK(\"rectlin2\", x, y, z, pointData={'scalar_data': f})"
   ]
  },
  {
   "cell_type": "markdown",
   "metadata": {
    "slideshow": {
     "slide_type": "subslide"
    }
   },
   "source": [
    "As a second example, we'll create point-wise data that represents, perhaps, the location of several particles in a box at several successive time points.  This is one way to produce temporal viz.  We'll use `pyevt"
   ]
  },
  {
   "cell_type": "code",
   "execution_count": null,
   "metadata": {
    "slideshow": {
     "slide_type": "fragment"
    }
   },
   "outputs": [],
   "source": [
    "# Create points for 10 particles and 10 time steps. \n",
    "n_part, n_time = 10, 10\n",
    "coords = np.zeros((n_time, 3, n_part))\n",
    "coords[0, :, :] = np.random.rand(3, n_part)\n",
    "# Quick 2-d mpl viz for identifying\n",
    "for i in range(1, n_time):\n",
    "    tmp = coords[i-1, :, :]+(np.random.rand(3, n_part)-0.5)/10\n",
    "    tmp[tmp<0] = abs(tmp[tmp<0])   # reflection\n",
    "    tmp[tmp>1] = abs(1-tmp[tmp>1]) # off walls\n",
    "    coords[i, :, :] = tmp[:, :]\n",
    "import matplotlib.pyplot as plt\n",
    "for i in range(n_time):\n",
    "    plt.plot(coords[i,0,:], coords[i,1,:], color='b', marker='o', mfc='w', ls='', ms=(1+i*2), alpha=0.5)\n",
    "x0 = coords[0,0,:]\n",
    "y0 = coords[0,1,:]\n",
    "z0 = coords[0,2,:]\n",
    "pyevtk.hl.pointsToVTK(\"./points\", x0, y0, z0, data={'id': np.arange(0,10)})"
   ]
  },
  {
   "cell_type": "markdown",
   "metadata": {
    "slideshow": {
     "slide_type": "fragment"
    }
   },
   "source": [
    "We'll use these and other VTK files to vizualize things in VisIt (and, maybe Paraview and Mayavi)."
   ]
  }
 ],
 "metadata": {
  "celltoolbar": "Slideshow",
  "kernelspec": {
   "display_name": "Python 3",
   "language": "python",
   "name": "python3"
  },
  "language_info": {
   "codemirror_mode": {
    "name": "ipython",
    "version": 3
   },
   "file_extension": ".py",
   "mimetype": "text/x-python",
   "name": "python",
   "nbconvert_exporter": "python",
   "pygments_lexer": "ipython3",
   "version": "3.8.6"
  },
  "livereveal": {
   "scroll": true
  }
 },
 "nbformat": 4,
 "nbformat_minor": 2
}
