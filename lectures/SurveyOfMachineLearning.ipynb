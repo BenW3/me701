{
 "cells": [
  {
   "cell_type": "markdown",
   "metadata": {
    "slideshow": {
     "slide_type": "slide"
    }
   },
   "source": [
    "# Machine Learning: *The Briefest Survey Ever*"
   ]
  },
  {
   "cell_type": "markdown",
   "metadata": {
    "slideshow": {
     "slide_type": "fragment"
    }
   },
   "source": [
    "Key questions:\n",
    "\n",
    "  1. What *is* machine learning (or \"ML\")?\n",
    "  2. When to *use* ML?"
   ]
  },
  {
   "cell_type": "markdown",
   "metadata": {
    "slideshow": {
     "slide_type": "subslide"
    }
   },
   "source": [
    "From [Wikipedia](https://en.wikipedia.org/wiki/Machine_learning): \"*Machine learning (ML) is the study of computer algorithms that improve automatically through experience*\""
   ]
  },
  {
   "cell_type": "markdown",
   "metadata": {
    "slideshow": {
     "slide_type": "fragment"
    }
   },
   "source": [
    " <img src=\"wordcloud.png\" alt=\"ML word cloud from https://cmci.colorado.edu/classes/INFO-4604/\" width=\"800\"> "
   ]
  },
  {
   "cell_type": "markdown",
   "metadata": {
    "slideshow": {
     "slide_type": "subslide"
    }
   },
   "source": [
    "Machine learning most often \"the answer\" when (1) **data input is unbounded** and/or (2) **output should improve in quality with continued \"learning.\"** (ideally in real time)."
   ]
  },
  {
   "cell_type": "markdown",
   "metadata": {
    "slideshow": {
     "slide_type": "slide"
    }
   },
   "source": [
    "# Case Study 1 - The Creepy Know-What-You-Want Services"
   ]
  },
  {
   "cell_type": "markdown",
   "metadata": {
    "slideshow": {
     "slide_type": "subslide"
    }
   },
   "source": [
    "Netflix, Huly, etc., have a weird way of knowing what you want.  How so?"
   ]
  },
  {
   "cell_type": "markdown",
   "metadata": {
    "slideshow": {
     "slide_type": "fragment"
    }
   },
   "source": [
    "Consider Netflix, which has lots of movies, lots of users, and the star ranking of movies by those users.  "
   ]
  },
  {
   "cell_type": "markdown",
   "metadata": {
    "slideshow": {
     "slide_type": "subslide"
    }
   },
   "source": [
    "Suppose user $j$ has has ranked movie $i$ with the value $s_{ij}$.  A whole matrix of these scores can be formed:\n",
    "\n",
    "$$\n",
    "\\begin{matrix}\n",
    "s_{11} & s_{12} & \\ldots & s_{1j} & \\ldots & \\\\\n",
    "s_{21} & s_{22} & \\ldots & s_{2j} &   & \\\\\n",
    "\\vdots &    & \\ddots  &  & \\ldots  &\\\\\n",
    " s_{i1} & s_{i2} &   & s_{ij}  &  &  \\\\\n",
    "  \\vdots &    &  &   & \\ddots \\\\\n",
    "     &   &   &  & \\ldots & s_{NM} \\\\\n",
    "\\end{matrix}\n",
    "$$\n",
    "\n",
    "for $N$ users and $M$ movies.  "
   ]
  },
  {
   "cell_type": "markdown",
   "metadata": {
    "slideshow": {
     "slide_type": "fragment"
    }
   },
   "source": [
    "The problem is, what if $s_i(m_j)$ doesn't exist?"
   ]
  },
  {
   "cell_type": "markdown",
   "metadata": {
    "slideshow": {
     "slide_type": "fragment"
    }
   },
   "source": [
    "We assume some sort of relationship between known scores and unknown scores! \n",
    "\n",
    "A *simple* option is *linear*:\n",
    "\n",
    "$$\n",
    "    \\mathbf{S} = \\mathbf{A} \\mathbf{B}\n",
    "$$\n",
    "\n",
    "where $\\mathbf{A} \\in R^{m\\times r}$,  $\\mathbf{B} \\in R^{r\\times n}$, and $r \\ll m, n$.\n",
    "\n",
    "How?  A variant of SVD.  See https://developers.google.com/machine-learning/recommendation/collaborative/matrix and http://ethen8181.github.io/machine-learning/recsys/1_ALSWR.html.\n",
    "\n",
    "First, download [this file](Download and unzip http://files.grouplens.org/datasets/movielens/ml-100k.zip) and unzip it!"
   ]
  },
  {
   "cell_type": "code",
   "execution_count": null,
   "metadata": {
    "slideshow": {
     "slide_type": "subslide"
    }
   },
   "outputs": [],
   "source": [
    "import numpy as np\n",
    "import pandas as pd\n",
    "import matplotlib.pyplot as plt"
   ]
  },
  {
   "cell_type": "code",
   "execution_count": null,
   "metadata": {
    "slideshow": {
     "slide_type": "fragment"
    }
   },
   "outputs": [],
   "source": [
    "file_path = '/home/robertsj/Downloads/ml-100k/u.data'\n",
    "names = ['user_id', 'item_id', 'rating', 'timestamp']\n",
    "df = pd.read_csv(file_path, sep = '\\t', names = names)\n",
    "print(df.shape)\n",
    "df.head()"
   ]
  },
  {
   "cell_type": "code",
   "execution_count": null,
   "metadata": {
    "slideshow": {
     "slide_type": "subslide"
    }
   },
   "outputs": [],
   "source": [
    "# create the rating matrix S\n",
    "n_users = df['user_id'].unique().shape[0]\n",
    "n_items = df['item_id'].unique().shape[0]\n",
    "S = np.zeros((n_users, n_items)) # carefule!\n",
    "for row in df.itertuples(index = False):\n",
    "    S[row.user_id - 1, row.item_id - 1] = row.rating\n",
    "# compute the non-zero elements in the rating matrix\n",
    "matrix_size = np.prod(S.shape)\n",
    "interaction = np.flatnonzero(S).shape[0]\n",
    "sparsity = 100 * (interaction / matrix_size)\n",
    "print('dimension: ', S.shape)\n",
    "print('sparsity: {:.1f}%'.format(sparsity))\n",
    "S"
   ]
  },
  {
   "cell_type": "code",
   "execution_count": null,
   "metadata": {
    "slideshow": {
     "slide_type": "subslide"
    }
   },
   "outputs": [],
   "source": [
    "test = np.zeros(S.shape)\n",
    "train = S.copy()\n",
    "for user in range(S.shape[0]):\n",
    "    test_index = np.random.choice(\n",
    "    np.flatnonzero(S[user]), size = 10, replace = False)\n",
    "    train[user, test_index] = 0.0\n",
    "    test[user, test_index] = S[user, test_index]\n",
    "train"
   ]
  },
  {
   "cell_type": "code",
   "execution_count": null,
   "metadata": {
    "slideshow": {
     "slide_type": "subslide"
    }
   },
   "outputs": [],
   "source": [
    "from sklearn.decomposition import NMF\n",
    "model = NMF(n_components=10, init='random', random_state=0)\n",
    "A = model.fit_transform(train)\n",
    "B = model.components_"
   ]
  },
  {
   "cell_type": "markdown",
   "metadata": {
    "slideshow": {
     "slide_type": "slide"
    }
   },
   "source": [
    "# Case Study 2 - Who Belongs Where?\n",
    "\n"
   ]
  },
  {
   "cell_type": "markdown",
   "metadata": {},
   "source": [
    "https://scikit-learn.org/stable/modules/generated/sklearn.cluster.KMeans.html"
   ]
  },
  {
   "cell_type": "markdown",
   "metadata": {},
   "source": [
    "# Case Study 3 - Given $x_i$ and $y_i$, how to predict $y_j$?"
   ]
  },
  {
   "cell_type": "code",
   "execution_count": null,
   "metadata": {},
   "outputs": [],
   "source": [
    "# https://towardsdatascience.com/deep-neural-multilayer-perceptron-mlp-with-scikit-learn-2698e77155e\n",
    "\n",
    "from sklearn.neural_network import MLPRegressor\n",
    "from sklearn.model_selection import train_test_split\n",
    "from sklearn.datasets import fetch_california_housing\n",
    "from sklearn.preprocessing import StandardScaler\n",
    "from sklearn.metrics import r2_score\n",
    "import pandas as pd\n",
    "\n",
    "cal_housing = fetch_california_housing()\n",
    "X = pd.DataFrame(cal_housing.data,columns=cal_housing.feature_names)\n",
    "y = cal_housing.target\n",
    "X_train, X_test, y_train, y_test = train_test_split(X, y,random_state=1, test_size=0.2)\n",
    "\n",
    "sc_X = StandardScaler()\n",
    "X_trainscaled=sc_X.fit_transform(X_train)\n",
    "X_testscaled=sc_X.transform(X_test)"
   ]
  },
  {
   "cell_type": "code",
   "execution_count": null,
   "metadata": {
    "slideshow": {
     "slide_type": "subslide"
    }
   },
   "outputs": [],
   "source": [
    "reg = MLPRegressor(hidden_layer_sizes=(8,8),activation=\"relu\",\n",
    "                   random_state=1, max_iter=100).fit(X_trainscaled, y_train)"
   ]
  },
  {
   "cell_type": "code",
   "execution_count": null,
   "metadata": {},
   "outputs": [],
   "source": [
    "y_pred=reg.predict(X_testscaled)\n",
    "\n",
    "print(\"The Score with \", (r2_score(y_pred, y_test)))"
   ]
  },
  {
   "cell_type": "code",
   "execution_count": null,
   "metadata": {},
   "outputs": [],
   "source": [
    "plt.plot(y_test, y_pred, 'o')"
   ]
  },
  {
   "cell_type": "code",
   "execution_count": null,
   "metadata": {},
   "outputs": [],
   "source": []
  }
 ],
 "metadata": {
  "celltoolbar": "Slideshow",
  "kernelspec": {
   "display_name": "Python 3",
   "language": "python",
   "name": "python3"
  },
  "language_info": {
   "codemirror_mode": {
    "name": "ipython",
    "version": 3
   },
   "file_extension": ".py",
   "mimetype": "text/x-python",
   "name": "python",
   "nbconvert_exporter": "python",
   "pygments_lexer": "ipython3",
   "version": "3.8.6"
  }
 },
 "nbformat": 4,
 "nbformat_minor": 4
}
