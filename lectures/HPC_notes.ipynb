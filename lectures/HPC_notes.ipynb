{
 "cells": [
  {
   "cell_type": "markdown",
   "metadata": {
    "slideshow": {
     "slide_type": "slide"
    }
   },
   "source": [
    "# High-Performance Computing in C++\n",
    "\n",
    "This is a three-part series of tutorials that provides a foundation for understanding the computational performance of numerical applications."
   ]
  },
  {
   "cell_type": "markdown",
   "metadata": {
    "slideshow": {
     "slide_type": "subslide"
    }
   },
   "source": [
    "## References\n",
    "\n",
    "Hager and Wellein, Introduction to High Performance Computing for\n",
    "Scientists and Engineers (Chapman & Hall/CRC Computational Science)\n",
    "\n",
    "http://www.lighterra.com/papers/modernmicroprocessors/\n",
    "\n",
    "https://www.cpu-world.com/CPUs/Xeon/Intel-Xeon%20E5-2683%20v3.html\n",
    "\n",
    "https://www.cc.gatech.edu/~echow/ipcc/hpc-course/13_perf.pdf\n",
    "\n",
    "https://sp.ts.fujitsu.com/dmsp/Publications/public/wp-haswell-ep-memory-performance-ww-en.pdf\n",
    "\n",
    "https://www.cs.virginia.edu/stream/"
   ]
  },
  {
   "cell_type": "markdown",
   "metadata": {
    "slideshow": {
     "slide_type": "slide"
    }
   },
   "source": [
    "# Architectures\n",
    "\n"
   ]
  },
  {
   "cell_type": "markdown",
   "metadata": {
    "slideshow": {
     "slide_type": "fragment"
    }
   },
   "source": [
    "...a tour of H&W chapter one...by the authors:\n",
    "\n",
    "https://blogs.fau.de/hager/files/2020/10/01_architecture.pdf"
   ]
  },
  {
   "cell_type": "markdown",
   "metadata": {
    "slideshow": {
     "slide_type": "subslide"
    }
   },
   "source": [
    "A simple C/C++ timer (in `timer.hh`):\n",
    "\n",
    "```c++\n",
    "#ifndef TIMER_HH_\n",
    "#define TIMER_HH_\n",
    "#include <sys/time.h>\n",
    "#include <cstddef>\n",
    "double time()\n",
    "{\n",
    "  struct timeval t;\n",
    "  gettimeofday(&t, NULL);\n",
    "  return (double)(t.tv_sec + t.tv_usec/1000000.0);\n",
    "}\n",
    "#endif // TIMER_HH__\n",
    "```"
   ]
  },
  {
   "cell_type": "markdown",
   "metadata": {
    "slideshow": {
     "slide_type": "subslide"
    }
   },
   "source": [
    "And a `test_timer.cc`:\n",
    "\n",
    "```c++\n",
    "#include \"timer.hh\"\n",
    "#include <cmath>\n",
    "#include <cstdio>\n",
    "int main()\n",
    "{\n",
    "  const int n = 1000000;\n",
    "  const double delta = 1.0/(double)n;\n",
    "  double s = 0;\n",
    "  double t0 = time();\n",
    "  for (int i = 0; i < n; ++i)\n",
    "  {\n",
    "    s += std::cos(i*delta) * delta;\n",
    "  }\n",
    "  double te = time()-t0;\n",
    "  std::printf(\"       sin(1) ~= %10.6e\\n\", s);\n",
    "  std::printf(\" elapsed time =  %10.6e seconds\\n\", te);\n",
    "}\n",
    "```"
   ]
  },
  {
   "cell_type": "markdown",
   "metadata": {
    "slideshow": {
     "slide_type": "subslide"
    }
   },
   "source": [
    "# The \"triad\" test\n",
    "\n",
    "Given for arrays/vectors/whatever `A`, `B`, `C`, and `D` of length `N`, compute the number of FLOPs to compute the following:\n",
    "\n",
    "```python\n",
    "  A = B + C * D\n",
    "```\n",
    "\n"
   ]
  },
  {
   "cell_type": "markdown",
   "metadata": {
    "slideshow": {
     "slide_type": "fragment"
    }
   },
   "source": [
    "That's (1) an addition and (2) multiplication for each of `N` elements."
   ]
  },
  {
   "cell_type": "markdown",
   "metadata": {
    "slideshow": {
     "slide_type": "fragment"
    }
   },
   "source": [
    "Hence, that's `2*N` FLOPs.  "
   ]
  },
  {
   "cell_type": "markdown",
   "metadata": {
    "slideshow": {
     "slide_type": "subslide"
    }
   },
   "source": [
    "## What Performance *Should* We See?\n",
    "\n",
    "I ran this on my workstation using WSL2+Ubuntu.  My CPU is the [Intel Xeon 2683](https://www.cpu-world.com/CPUs/Xeon/Intel-Xeon%20E5-2683%20v3.html) for which I found some of the following details:\n",
    "\n",
    "```\n",
    "Frequency                  2000 MHz\n",
    "Maximum turbo frequency    3000 MHz\n",
    "Level 1 cache size         14 x 32 KB 8-way set associative instruction caches\n",
    "                           14 x 32 KB 8-way set associative data caches\n",
    "Level 2 cache size         14 x 256 KB 8-way set associative caches\n",
    "Level 3 cache size         35 MB 20-way set associative shared cache\n",
    "Extensions & Technologies  AVX2 (+ others)\n",
    "Max memory bandwidth       68.3 GB/s  (= 17 GB/s x 4ch)\n",
    "```\n",
    "\n",
    "I'm not sure how/when turbo is activated, but these parameters suggest that I should see something on the order of a few GFLOP/s."
   ]
  },
  {
   "cell_type": "code",
   "execution_count": 1,
   "metadata": {
    "slideshow": {
     "slide_type": "skip"
    }
   },
   "outputs": [
    {
     "data": {
      "image/png": "[encoded data removed]",
      "text/plain": [
       "<Figure size 432x288 with 1 Axes>"
      ]
     },
     "metadata": {
      "needs_background": "light"
     },
     "output_type": "display_data"
    },
    {
     "name": "stdout",
     "output_type": "stream",
     "text": [
      "10.56 GB/s at 0.66 GFLOP/s\n"
     ]
    }
   ],
   "source": [
    "import numpy as np\n",
    "import matplotlib.pyplot as plt\n",
    "n, c, gflops = np.loadtxt('triad.txt', unpack=True)\n",
    "plt.semilogx(n, gflops, 'k.')\n",
    "m1 = np.mean(gflops[(n<8e3)*(n>2e3)])\n",
    "m2 = np.mean(gflops[(n<1e5)*(n>2e4)])\n",
    "m3 = np.mean(gflops[(n<9e5)*(n>2e5)])\n",
    "m4 = np.mean(gflops[n>2e6])\n",
    "plt.semilogx([1e3,1e4], [m1,m1], 'g', alpha=0.8);\n",
    "plt.text(1.1*1e4, m1, f\"{m1:.2f}\", va='center', ha='left', color='g')\n",
    "plt.semilogx([1e4,2e5], [m2,m2], 'g', alpha=0.8)\n",
    "plt.text(0.9*1e4, m2, f\"{m2:.2f}\", va='center', ha='right', color='g')\n",
    "plt.semilogx([1e5,1.4e6], [m3,m3], 'g', alpha=0.8)\n",
    "plt.text(1.5*1e6, m3, f\"{m3:.2f}\", va='center', ha='left', color='g')\n",
    "plt.semilogx([0.9*1e6,1.2*1e7], [m4,m4], 'g', alpha=0.8)\n",
    "plt.text(0.8*1e6, m4, f\"{m4:.2f}\", va='center', ha='right', color='g')\n",
    "plt.semilogx([14*32e3/(4*8)]*2, [.5, 3], 'b:')\n",
    "plt.text(14*32e3/(4*8)*1.1, 3, \"L1\", va='top', ha='left', color='b')\n",
    "plt.semilogx([14*256e3/(4*8)]*2, [.5, 3], 'b:')\n",
    "plt.text(14*256e3/(4*8)*1.1, 3, \"L2\", va='top', ha='left', color='b')\n",
    "plt.semilogx([35e6/(4*8)]*2, [.5, 3], 'b:')\n",
    "plt.text(35e6/(4*8)*1.1, 3, \"L3\", va='top', ha='left', color='b')\n",
    "plt.xlabel('N')\n",
    "plt.ylabel('GFLOP/S')\n",
    "plt.show()\n",
    "print(f\"{m4*2*8:.2f} GB/s at {m4:.2f} GFLOP/s\")"
   ]
  },
  {
   "cell_type": "markdown",
   "metadata": {
    "slideshow": {
     "slide_type": "subslide"
    }
   },
   "source": [
    "The best performance is about 3 GFLOP/s.  Right order of magnide, but *not* optimal!\n",
    "\n",
    "The performance takes hits at the expected locations, but the final bandwidth is way below the peak theoretical bandwidth!  However, my actual peak is probably closer to 46 GB/s due to my memory configration."
   ]
  },
  {
   "cell_type": "markdown",
   "metadata": {
    "slideshow": {
     "slide_type": "subslide"
    }
   },
   "source": [
    "# Profiling\n"
   ]
  },
  {
   "cell_type": "markdown",
   "metadata": {
    "slideshow": {
     "slide_type": "fragment"
    }
   },
   "source": [
    "First, compile with the `-pg` flag:\n",
    "\n",
    "```\n",
    "g++ -pg myprogram.cc -o myprogram\n",
    "```\n"
   ]
  },
  {
   "cell_type": "markdown",
   "metadata": {
    "slideshow": {
     "slide_type": "fragment"
    }
   },
   "source": [
    "Run the code:\n",
    "\n",
    "```\n",
    "./myprogram\n",
    "```"
   ]
  },
  {
   "cell_type": "markdown",
   "metadata": {
    "slideshow": {
     "slide_type": "fragment"
    }
   },
   "source": [
    "Get the results:\n",
    "\n",
    "```\n",
    "gprof gmon.out > results.txt\n",
    "```"
   ]
  },
  {
   "cell_type": "markdown",
   "metadata": {
    "slideshow": {
     "slide_type": "slide"
    }
   },
   "source": [
    "# OMILAT"
   ]
  },
  {
   "cell_type": "markdown",
   "metadata": {
    "slideshow": {
     "slide_type": "fragment"
    }
   },
   "source": [
    "How do we compute a matrix-vector product?  Write out the code!"
   ]
  },
  {
   "cell_type": "markdown",
   "metadata": {
    "slideshow": {
     "slide_type": "fragment"
    }
   },
   "source": [
    "How do we compare to the experts?"
   ]
  }
 ],
 "metadata": {
  "celltoolbar": "Slideshow",
  "kernelspec": {
   "display_name": "Python 3",
   "language": "python",
   "name": "python3"
  },
  "language_info": {
   "codemirror_mode": {
    "name": "ipython",
    "version": 3
   },
   "file_extension": ".py",
   "mimetype": "text/x-python",
   "name": "python",
   "nbconvert_exporter": "python",
   "pygments_lexer": "ipython3",
   "version": "3.8.6"
  }
 },
 "nbformat": 4,
 "nbformat_minor": 2
}
