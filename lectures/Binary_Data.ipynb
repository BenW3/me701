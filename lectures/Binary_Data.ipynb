{
 "cells": [
  {
   "cell_type": "markdown",
   "metadata": {
    "slideshow": {
     "slide_type": "slide"
    }
   },
   "source": [
    "# Binary Data\n",
    "\n",
    "Overview of data as it is stored on disk."
   ]
  },
  {
   "cell_type": "markdown",
   "metadata": {
    "slideshow": {
     "slide_type": "subslide"
    }
   },
   "source": [
    "## References\n",
    "\n",
    "Several Wikipedia articles give pretty good overviews of relevant topics:\n",
    "\n",
    "  - [Byte](https://en.wikipedia.org/wiki/Byte)\n",
    "  - [UTF-8 encoding](https://en.wikipedia.org/wiki/UTF-8)\n",
    "  - [Hexidecimal format](https://en.wikipedia.org/wiki/Hexadecimal)\n",
    "  - [Hex \"dumping\"](https://en.wikipedia.org/wiki/Hex_dump)"
   ]
  },
  {
   "cell_type": "markdown",
   "metadata": {
    "slideshow": {
     "slide_type": "slide"
    }
   },
   "source": [
    "## Binary Data\n",
    "\n",
    "\n",
    "We have dealt with binary representations when discussing numbers, e.g., $123_{10} = 1111011_{2}$, as verified by"
   ]
  },
  {
   "cell_type": "code",
   "execution_count": null,
   "metadata": {
    "slideshow": {
     "slide_type": "fragment"
    }
   },
   "outputs": [],
   "source": [
    "bin(123)"
   ]
  },
  {
   "cell_type": "markdown",
   "metadata": {
    "slideshow": {
     "slide_type": "fragment"
    }
   },
   "source": [
    "The same can, in theory, be done for `float` values, but there is no function as simple as `bin` for doing it.  We can also represent $123_{10} = 7\\text{b}_{16}$, or"
   ]
  },
  {
   "cell_type": "code",
   "execution_count": null,
   "metadata": {},
   "outputs": [],
   "source": [
    "hex(123)"
   ]
  },
  {
   "cell_type": "markdown",
   "metadata": {},
   "source": [
    "Values in the hexadecimal system are written using the 10 decimal digits and the first 6 letters of the (Latin) [alphabet](https://en.wikipedia.org/wiki/Latin_alphabet).  Python uses the `'0x'` prefix to indicate a hexidecimal number (as seen above).  Here are all 16 values:"
   ]
  },
  {
   "cell_type": "code",
   "execution_count": null,
   "metadata": {
    "slideshow": {
     "slide_type": "notes"
    }
   },
   "outputs": [],
   "source": [
    "d = range(0, 16)\n",
    "b = (bin(i).replace('0b', '') for i in d)\n",
    "h = (hex(i).replace('0x', '') for i in d)\n",
    "print((' base-2:' + '{:>4} '*16).format(*b))\n",
    "print(('base-10:' + '{:>4} '*16).format(*d))\n",
    "print(('base-16:' + '{:>4} '*16).format(*h))"
   ]
  },
  {
   "cell_type": "markdown",
   "metadata": {
    "slideshow": {
     "slide_type": "subslide"
    }
   },
   "source": [
    "## From Data to Bytes \n",
    "\n",
    "We think of binary as 1's and 0's (correctly so), but data is actually stored as 8-bit bytes because that represents the smallest chunk of data (i.e., [addressable unit]() that can be stored in memory.  \n",
    "\n",
    " > Historically, 7 bits were probably enough because $2^7 = 128$ exceeds the roughly 92 characters needed to represents the alphabet (`a-z` and `A-Z`), the numerals `0-9`, and the common punctuation marks (e.g., `,:\")]>?`).  So why 8?  It's all about the logic: everything at the hardware level starts off at the binary \"1\" or \"0\" level.  It's easier to manage data if it comes as even powers of two, which can't be done with 7 bytes."
   ]
  },
  {
   "cell_type": "markdown",
   "metadata": {
    "slideshow": {
     "slide_type": "subslide"
    }
   },
   "source": [
    "In Python, we can convert `int` values to bytes:"
   ]
  },
  {
   "cell_type": "code",
   "execution_count": null,
   "metadata": {
    "slideshow": {
     "slide_type": "fragment"
    }
   },
   "outputs": [],
   "source": [
    "a = 123              # try 200 and 300, too.\n",
    "a.to_bytes(1, 'big') # try 2,3,4  and 'little'"
   ]
  },
  {
   "cell_type": "markdown",
   "metadata": {
    "slideshow": {
     "slide_type": "fragment"
    }
   },
   "source": [
    "That output is probably unexpected. Surely, `{` is not a 1 or 0, and it's not the characters `0-9` and `a-f` that make up hexadecimal representations.  Rather, it is one of the original 128 ASCII characters (or an additional 128 characters) used by Python in its default `str` encoding of a byte.  Here, that default is [UTF-8](https://en.wikipedia.org/wiki/UTF-8), which is a widely used, 8-bit format.  All 256 values that a byte can represent are produced below in the decimal, binary, hexadecimal, and UTF-8 (string) formats (and a selection is shown):"
   ]
  },
  {
   "cell_type": "code",
   "execution_count": null,
   "metadata": {
    "slideshow": {
     "slide_type": "fragment"
    }
   },
   "outputs": [],
   "source": [
    "import pandas # nice data handling\n",
    "fmt = \"{:>3}  {:>8}   {:4} {:4}\"\n",
    "b = [bin(d).replace('0b','') for d in range(256)]\n",
    "h = [hex(d).replace('0x','') for d in range(256)]\n",
    "s = [str(d.to_bytes(1, 'big'))[1:].replace(r\"\\x\",'').replace(\"'\", '') for d in range(256)]\n",
    "df = pandas.DataFrame({'base-10': range(256), 'base-2':b, 'base-16':h, 'UTF-8': s})\n",
    "df[120:130]"
   ]
  },
  {
   "cell_type": "markdown",
   "metadata": {
    "slideshow": {
     "slide_type": "fragment"
    }
   },
   "source": [
    "From the table, we can see that `{` is the UTF-8 equivalent to $123_{10} = 7\\text{b}_{16} = 1111011_{2}$."
   ]
  },
  {
   "cell_type": "markdown",
   "metadata": {
    "slideshow": {
     "slide_type": "subslide"
    }
   },
   "source": [
    "## Saving Data to Binary Format\n",
    "\n",
    "We have previously used `f = open(...)` to read or write data to text files.  We can use the same function for writing byte-wise data directly."
   ]
  },
  {
   "cell_type": "code",
   "execution_count": null,
   "metadata": {
    "slideshow": {
     "slide_type": "fragment"
    }
   },
   "outputs": [],
   "source": [
    "f = open('an_integer.b', 'wb')\n",
    "f.write(a.to_bytes(1, 'big'))\n",
    "f.close()"
   ]
  },
  {
   "cell_type": "markdown",
   "metadata": {
    "slideshow": {
     "slide_type": "fragment"
    }
   },
   "source": [
    "Using `ls` shows that the file is, indeed, a single byte:"
   ]
  },
  {
   "cell_type": "code",
   "execution_count": null,
   "metadata": {
    "slideshow": {
     "slide_type": "fragment"
    }
   },
   "outputs": [],
   "source": [
    "!ls -l an_integer.b"
   ]
  },
  {
   "cell_type": "markdown",
   "metadata": {
    "slideshow": {
     "slide_type": "subslide"
    }
   },
   "source": [
    "The command line function `xxd` can dump the hexadecimal or binary representation of a file to standard output:"
   ]
  },
  {
   "cell_type": "code",
   "execution_count": null,
   "metadata": {
    "slideshow": {
     "slide_type": "fragment"
    }
   },
   "outputs": [],
   "source": [
    "!xxd ./an_integer.b"
   ]
  },
  {
   "cell_type": "markdown",
   "metadata": {
    "slideshow": {
     "slide_type": "fragment"
    }
   },
   "source": [
    "The `00000000` indicates the byte address (here, just the first one starting at 0) followed by the hexidecimal value stored ($7\\text{b}_{16} = 123_{10}$).  The binary representation is"
   ]
  },
  {
   "cell_type": "code",
   "execution_count": null,
   "metadata": {
    "slideshow": {
     "slide_type": "fragment"
    }
   },
   "outputs": [],
   "source": [
    "!xxd -b ./an_integer.b"
   ]
  },
  {
   "cell_type": "markdown",
   "metadata": {
    "slideshow": {
     "slide_type": "subslide"
    }
   },
   "source": [
    "For more complex data (or more numerous data), the `struct` module and its `pack` and `unpack` functions are useful.  See `help(struct)` and `help(struct.pack)` for details, but, as an example, consider the following:"
   ]
  },
  {
   "cell_type": "code",
   "execution_count": null,
   "metadata": {
    "slideshow": {
     "slide_type": "fragment"
    }
   },
   "outputs": [],
   "source": [
    "import struct\n",
    "struct.pack('iii', 123, 124, 125)"
   ]
  },
  {
   "cell_type": "markdown",
   "metadata": {
    "slideshow": {
     "slide_type": "fragment"
    }
   },
   "source": [
    "By inspection, we see can see the strings `{000`, `|000`, and `}000`, the four-byte UTF-8 encodings for 123, 124, and 125, respectively.  We see four bytes because the `int` type in Python (indicated by `i` in the format string `'iii'`) is a standard 4-byte (32-bit) integer.  These bytes are stored in *little* [endian](https://en.wikipedia.org/wiki/Endianness) format, in which the least-significant (smallest) bits are stored first.  That's like storing the number $321_{10}$ as the sequence 1, 2, and 3 in memory.  In *big* endian format (where the least significant bits go last), we have"
   ]
  },
  {
   "cell_type": "code",
   "execution_count": null,
   "metadata": {
    "slideshow": {
     "slide_type": "fragment"
    }
   },
   "outputs": [],
   "source": [
    "struct.pack('!iii', 123, 124, 125) # note the ! in the format string"
   ]
  },
  {
   "cell_type": "markdown",
   "metadata": {
    "slideshow": {
     "slide_type": "fragment"
    }
   },
   "source": [
    "Now, 123, 124, and 125 are stored as `000{`, `000|`, and `000}`."
   ]
  },
  {
   "cell_type": "markdown",
   "metadata": {
    "slideshow": {
     "slide_type": "subslide"
    }
   },
   "source": [
    "Just as data can be packed, so can it be unpacked.  Below, we need to *know* the size of `message` in order to define the format for packing and unpacking, which illustrates a common challenge when designing and using binary formats.  When read and unpacked, the string data must be decoded from the encoded format (utf-8) to the final form (a `str`)."
   ]
  },
  {
   "cell_type": "code",
   "execution_count": null,
   "metadata": {
    "slideshow": {
     "slide_type": "fragment"
    }
   },
   "outputs": [],
   "source": [
    "message = \"hello\"          \n",
    "data = struct.pack('!id5s', 123, 0.1, bytes(message, 'utf-8'))\n",
    "f = open('tmp.b', 'wb')\n",
    "f.write(data)\n",
    "f.close()"
   ]
  },
  {
   "cell_type": "code",
   "execution_count": null,
   "metadata": {
    "slideshow": {
     "slide_type": "fragment"
    }
   },
   "outputs": [],
   "source": [
    "g = open('tmp.b', 'rb')\n",
    "new_data = struct.unpack('!id5s', g.read())\n",
    "g.close()\n",
    "new_data"
   ]
  },
  {
   "cell_type": "code",
   "execution_count": null,
   "metadata": {
    "slideshow": {
     "slide_type": "fragment"
    }
   },
   "outputs": [],
   "source": [
    "new_data[2].decode('utf-8')"
   ]
  },
  {
   "cell_type": "markdown",
   "metadata": {
    "slideshow": {
     "slide_type": "slide"
    }
   },
   "source": [
    "## Binary vs. Text\n",
    "\n"
   ]
  },
  {
   "cell_type": "markdown",
   "metadata": {
    "slideshow": {
     "slide_type": "fragment"
    }
   },
   "source": [
    "Although data is always binary at some level, we know that we can store a lot in plain text form.  Is there a reason why we'd want to stick with binary?  Consider the following code, which produces an array:"
   ]
  },
  {
   "cell_type": "code",
   "execution_count": null,
   "metadata": {
    "slideshow": {
     "slide_type": "fragment"
    }
   },
   "outputs": [],
   "source": [
    "import numpy as np\n",
    "x = np.linspace(0, 1, 100)"
   ]
  },
  {
   "cell_type": "markdown",
   "metadata": {
    "slideshow": {
     "slide_type": "fragment"
    }
   },
   "source": [
    "We can save this using `np.savetxt`:"
   ]
  },
  {
   "cell_type": "code",
   "execution_count": null,
   "metadata": {
    "slideshow": {
     "slide_type": "fragment"
    }
   },
   "outputs": [],
   "source": [
    "np.savetxt('array.txt', x)\n",
    "!ls -l array.txt"
   ]
  },
  {
   "cell_type": "markdown",
   "metadata": {
    "slideshow": {
     "slide_type": "subslide"
    }
   },
   "source": [
    "The file is 2500 bytes.  Does that make sense?  Remember, a `float` is 8 bytes, and we saved 100 of them to file.  So, we should only need 800 bytes.  However, in a text format, there is significant overhead to represent the original data (e.g., the `.` and `e` are needed for the numerical formatting).  NumPy supports writing directly to binary, too:"
   ]
  },
  {
   "cell_type": "code",
   "execution_count": null,
   "metadata": {
    "slideshow": {
     "slide_type": "fragment"
    }
   },
   "outputs": [],
   "source": [
    "np.save('array.npy', x)\n",
    "!ls -l array.npy"
   ]
  },
  {
   "cell_type": "markdown",
   "metadata": {
    "slideshow": {
     "slide_type": "subslide"
    }
   },
   "source": [
    "That is better, but there must still be some overhead.  At a minimum, we might expect to need 804 bytes, with the extra 4 containing the size of the array.  An alternative is `pickle`:"
   ]
  },
  {
   "cell_type": "code",
   "execution_count": null,
   "metadata": {
    "slideshow": {
     "slide_type": "fragment"
    }
   },
   "outputs": [],
   "source": [
    "import pickle\n",
    "pickle.dump(x, open('array.p', 'wb'))\n",
    "!ls -l array.p"
   ]
  },
  {
   "cell_type": "markdown",
   "metadata": {
    "slideshow": {
     "slide_type": "fragment"
    }
   },
   "source": [
    "That's even a bit worse, but `pickle` is neat:"
   ]
  },
  {
   "cell_type": "code",
   "execution_count": null,
   "metadata": {
    "slideshow": {
     "slide_type": "fragment"
    }
   },
   "outputs": [],
   "source": [
    "pickle.dump([x, x**2, \"hello\"], open('blah.p', 'wb'))\n",
    "data = pickle.load(open('blah.p', 'rb'))\n",
    "data[-1]"
   ]
  },
  {
   "cell_type": "markdown",
   "metadata": {
    "slideshow": {
     "slide_type": "subslide"
    }
   },
   "source": [
    "The only way to optimize the file size is to pack the data ourselves:"
   ]
  },
  {
   "cell_type": "code",
   "execution_count": null,
   "metadata": {
    "slideshow": {
     "slide_type": "fragment"
    }
   },
   "outputs": [],
   "source": [
    "data = struct.pack('i', len(x))\n",
    "for v in x:\n",
    "    data += struct.pack('d', v)\n",
    "f = open('array.b', 'wb')\n",
    "f.write(data)\n",
    "f.close()\n",
    "!ls -l array.b"
   ]
  },
  {
   "cell_type": "markdown",
   "metadata": {
    "slideshow": {
     "slide_type": "slide"
    }
   },
   "source": [
    "## In Brief: Binary Data in C++\n",
    "\n",
    "In C++, the process to read and write binary data is not terribly different from the `struct.pack` and `struct.unpack` in Python.  Here's a short C++ program to read the `array.b` produced above (an equivalent Python code follows):"
   ]
  },
  {
   "cell_type": "markdown",
   "metadata": {
    "slideshow": {
     "slide_type": "fragment"
    }
   },
   "source": [
    "```c++\n",
    "#include <fstream>\n",
    "#include <cstdio>\n",
    "int main()\n",
    "{\n",
    "  std::ifstream f(\"array.b\", std::ifstream::binary);\n",
    "  int n;\n",
    "  f.read((char*)&n, 4);\n",
    "  double *x = new double[n];\n",
    "  for (int i = 0; i < n; ++i)\n",
    "    f.read((char*)&x[i], 8);\n",
    "  f.close();\n",
    "  std::printf(\"%4i %12.8f %12.8f %12.8f\\n\", n, x[0], x[50], x[n-1]);\n",
    "  delete [] x;\n",
    "  return 0;\n",
    "}\n",
    "```"
   ]
  },
  {
   "cell_type": "code",
   "execution_count": null,
   "metadata": {
    "slideshow": {
     "slide_type": "subslide"
    }
   },
   "outputs": [],
   "source": [
    "import numpy as np\n",
    "f = open(\"array.b\", 'rb')\n",
    "n = struct.unpack('i', f.read(4))[0] # always a tuple even if one value\n",
    "x = np.zeros(n, dtype='float64')  \n",
    "for i in range(n):\n",
    "    x[i] = struct.unpack('d', f.read(8))[0]\n",
    "f.close()\n",
    "print('{:4} {:12.8f} {:12.8f} {:12.8f}'.format(n, x[0], x[50], x[-1]))"
   ]
  },
  {
   "cell_type": "markdown",
   "metadata": {
    "slideshow": {
     "slide_type": "slide"
    }
   },
   "source": [
    "## Exercises"
   ]
  },
  {
   "cell_type": "markdown",
   "metadata": {
    "slideshow": {
     "slide_type": "fragment"
    }
   },
   "source": [
    "### 1. Formatting $\\pi$ \n",
    "\n",
    "Consider $\\pi = 3.14159\\ldots$ stored as a `float` value named `pi`.  What are the binary, decimal, and hexidecimal representations of the *first* byte of `pi` stored in *big endian* format?  In *little endian* format?"
   ]
  },
  {
   "cell_type": "markdown",
   "metadata": {
    "slideshow": {
     "slide_type": "fragment"
    }
   },
   "source": [
    "### 2. Why Little Endian?\n",
    "\n",
    "Why on earth would one choose a little endian format?  "
   ]
  },
  {
   "cell_type": "markdown",
   "metadata": {
    "slideshow": {
     "slide_type": "fragment"
    }
   },
   "source": [
    "### 3. The Flight Path\n",
    "Suppose you are programming a UAV for which the flight path is defined by a user-provided sequence of coordinates ($x$, $y$, and $x$) with summary information stored at a UTF-8 string.  The UAV is powered by a simple microcontroller that requires a single binary file be loaded.  This file format is defined as follows:\n",
    "\n",
    "```\n",
    "bytes               type              description\n",
    "-------------------------------------------------------------\n",
    "0x000000-0x000003:  4-byte int        M = number of characters \n",
    "0x000004-0x000008:  4-byte int        N = number of coordinates                                    \n",
    "0x000009-0x??????:  string (utf-8)    flight path info as M bytes\n",
    "0x??????-0x??????:  8-byte float      coordinates arranged as\n",
    "                                      x0,y0,z0,x1,y1,...,zN\n",
    "-------------------------------------------------------------\n",
    "```\n",
    "  All values are little endian.\n",
    "\n",
    "  Given the following Python variables, create a binary file named `flight_path.b` using this format."
   ]
  },
  {
   "cell_type": "code",
   "execution_count": null,
   "metadata": {
    "slideshow": {
     "slide_type": "fragment"
    }
   },
   "outputs": [],
   "source": [
    "info = \"\"\"Flight path around MHK starting from Ward Hall \n",
    "and ending at beverages using a fixed altitude of 200 ft.\"\"\"\n",
    "coords = [(-96.5852293,39.1916258,200.0000000),\n",
    "          (-96.5627603,39.1911535,200.0000000),\n",
    "          (-96.5686058,39.1943873,200.0000000),\n",
    "          (-96.5759980,39.1921672,200.0000000),\n",
    "          (-96.5714061,39.1793939,200.0000000),\n",
    "          (-96.5657687,39.1801007,200.0000000)]"
   ]
  },
  {
   "cell_type": "markdown",
   "metadata": {
    "slideshow": {
     "slide_type": "subslide"
    }
   },
   "source": [
    "### 4. The Flight Log \n",
    "\n",
    "Suppose the same UAV logs its *actual* coordinate as a function of time using GPS.  Upon completion of its flight, this data is stored in the file `flight_log.b` which has the format \n",
    "\n",
    "```\n",
    "bytes               type              description\n",
    "-------------------------------------------------------------\n",
    "0x000000-0x000003:  4-byte int        N = number of records \n",
    "0x??????-0x??????:  8-byte float      N records arranged as\n",
    "                                      t0,x0,y0,z0,t1,...,zN\n",
    "-------------------------------------------------------------\n",
    "```\n",
    "\n",
    "The following [obfuscated code](https://en.wikipedia.org/wiki/Obfuscation_(software)) produces this file.  Your job is to read it and produce three arrays `t`, `x`, `y`, and `z`.  "
   ]
  },
  {
   "cell_type": "code",
   "execution_count": null,
   "metadata": {
    "slideshow": {
     "slide_type": "fragment"
    }
   },
   "outputs": [],
   "source": [
    "import base64\n",
    "tmp_ = b'.4AbKDero9AdTt9BIJ+:BPh[.AhJ.9FEq=DATVX,G:mJ7.48SK-Qjrf@P2;3CgV9tB5)0o-R`kDE,Qj^+D(s.0JkdJ0JG170JG170JG170JkRB2`YD&@5qaPAM[gQ0Om(\"1bppEA2n%02J$GX0Jm2u1b^U;0JG170JG170Jk^H0OZhM0J[/r@:V*\\'0JkRB2`YA&2_[0J2e+O\"0Om(\"1brJq2`W]P1c&Vq0JkaLAS!PT0JG170JG170Jm2r1H.7(0k3(\"1LacQ0JkRB2`YA%3A>#QAn<t]0Om(\"1bq!J3&P/&1LXg+0Jk^K3Fjft0JG170JG480Jk^H2J+m%3+HP\\\\2.g?,0JkRB2`YG)2Dei!2`3?J0Om(\"1brT!2)I3MAh[gU0Jk[J1Li*u0JG170JG170JkdJ2*!R+3&kD*@U`h,0JkRB2E>2X0ebFD@5]fJ0Om(\"1bq\\'MA2uG*0judp0JkXIARR8H0JG170JG170JkdJAhuGX1GCgDAi28O0JkRB2`YG\\'0K<Z\"2`NcN0Om(\"1bpaF1,`QQ@5foP0JkUH3&rZP0JG170JG170Jk^H0K<N$@PT`\"0P4lP0JkRB2`Y;)2`5#%0k4fT0Om(\"1bq$N3&tM.0f!/l0JkRG1H7\\'B0JG170JG170JkaI2.AR(3AG)#1c@4#0JkRB2`YGX0K<QQ1M&7N0Om(\"1bq\\'O@:hN31c@9P0JkOFA2Z,$0JG170JG170JkdJAM@[T@lQ5!0OlnN0JkRB2`Y>Y1,Upu0Out!0Om(\"1bq(\"@l@aO@lS\\'X0JkLE3&NBD0JG170JG170Jm2r1,(C>0k<!o0Jd2s0JkRB3&rfQ3+=m[@PVFI0Om(\"1bq%$AS,C31c[<N0JkID1,L[E0JG170JG170Jm2r2.JX+1GWGs2E>8*0JkRB3&rg(3&tG&0f*?!0Om(\"1bq%$@l@gO0JtXr0Jm?#@5T_m0JG170JG480Jk^H2`3QT2)R*HA78q\\'0JkRB3&tJ/@UinZ0P+`M0Om(\"1bpdq@Q7sZ0K1t\\'0Jm9!Ahl%o0JG170JG170JkdJ1c@\\'K3AP&%0ekFo0JkRB3&tDW1M($+11`=P0Om(\"1brW%1HAr)1,_\\'N0Jm2t1b^U;0JG170JG170JkdJAS,C/2DR-I@:Ee.0JkRB3&tJY2)o/)@5T`!0Om(\"1bq$M0fV1%@q.JP0Jk^J3Fjft0JG170JG480JkaI3&\"fN1Lap)2e\"^T0JkRB3&rs/0f(du2J$JT0Om(\"1bpsJ2)R0DAS!_S0JkXHARR8H0JG170JG170Jm2r2Dm<I2.87M2.ARV0JkRB3&rm.A7@JT1LjlK0Om(\"1bpgE3B/rW0f(e#0JkRF1H7\\'B0JG170JG170Jm2rARo71@5;D*1h/3p0JkRB3&r[%@lQJZAiMP*0Om(\"1bpmD0k=^$0OeQN0JkLD3&NBD0JG170JG170Jm5s0f(LD2DdF&1Li4$0JkRB3&riU1GpmI3&b>(0Om(\"1bppE2`3O&0fCdI0Jm?\"@5T_m0JG170JG480Jm2rA2,tr@:;\\'*A27[T0JkRB3&tD)@V.S[ARf:+0Om(\"1bq\\'I2E3HOAn*i20Jm2s1b^U;0JG170JG170Jm2r2Do&$A2RmR2)A`P0JkRB3&roV2DJZM2*#/*0Om(\"1GUe!A2H#N1c])V0JkXGARR8H0JG170JG170JkdJ3A>&(2ISI%A2?)\\'0JkRB3&ruW@5MM\\'2)I(#0Om(\"1bq$I@lZ5\"3Fk\\'X0JkLC3&NBD0JG170JG170JkaI0JI&u1L`*t@:iqV0JkRB3&tD+0k3.RARd_Y0Om(\"1bpan1H7?L2)I<I0Jm2r1b^U;0JG170JG170Jm5sA27Y,2e?N0@pq>R0JkRB3&rfRA2n$W3&30t0Om(\"1bq\"#2E<^.A7fF40JkLB3&NBD0JG170JG170Jk^H1L`7&3&``PAhdb)0JkRB3&riVARm`11H8r%0Om(\"2)8Vq2dnR#AN;PT0JkLA3&NBD0JG170JG170JkdJ0JG170JG170JG170JkRB3&roW0f(du3&!$u0Om(\"2)7!I2)[ES@5)4K0JG170JG170JG170JG170JG170JGLA-QkPpBE'\n",
    "exec(base64.a85decode(tmp_)[::-1])"
   ]
  },
  {
   "cell_type": "markdown",
   "metadata": {
    "slideshow": {
     "slide_type": "subslide"
    }
   },
   "source": [
    "For comparison, the following code produces similar (but different values) for `t`, `x`, `y`, and `z`."
   ]
  },
  {
   "cell_type": "code",
   "execution_count": null,
   "metadata": {
    "slideshow": {
     "slide_type": "fragment"
    }
   },
   "outputs": [],
   "source": [
    "import numpy as np\n",
    "coords = [(-96.5852293,39.1916258,200.0000000),\n",
    "          (-96.5530034,39.1913427,200.0000000),\n",
    "          (-96.5686058,39.1943873,200.0000000),\n",
    "          (-96.5759980,39.1921672,200.0000000),\n",
    "          (-96.5714061,39.1793939,200.0000000),\n",
    "          (-96.5657687,39.1801007,200.0000000)]\n",
    "t = range(len(coords))\n",
    "x = [i[0] for i in coords]\n",
    "y = [i[1] for i in coords]\n",
    "z = [i[2] for i in coords]\n",
    "from scipy.interpolate import interp1d \n",
    "fx = interp1d(t, x)\n",
    "fy = interp1d(t, y)\n",
    "fz = interp1d(t, z)\n",
    "tt = np.linspace(0, max(t), 50)\n",
    "np.random.seed(1234)\n",
    "a=0.1\n",
    "xx = fx(tt) + np.random.normal(0.0, a*np.std(x), len(tt))\n",
    "yy = fy(tt) + np.random.normal(0.0, a*np.std(y), len(tt))\n",
    "zz = fz(tt) + np.random.normal(0.0, 10, len(tt))\n",
    "xx[0], yy[0], zz[0] = x[0], y[0], z[0]\n",
    "xx[-1], yy[-1], zz[-1] = x[-1],y[-1],z[-1]\n",
    "times = tt*333\n",
    "import matplotlib.pyplot as plt\n",
    "plt.scatter(xx, yy, c=times, cmap='cividis', s=200, alpha=0.6)\n",
    "plt.plot(xx[0],yy[0], 'rv')\n",
    "plt.plot(xx[-1],yy[-1], 'r^')\n",
    "plt.xlim(min(xx)*1.0001, max(xx)*0.9999)\n",
    "plt.ylim(min(yy)*0.9999, max(yy)*1.0001)\n",
    "plt.xlabel('longitude')\n",
    "plt.ylabel('latitude')\n",
    "cbar = plt.colorbar()\n",
    "cbar.set_label('time (s)')"
   ]
  },
  {
   "cell_type": "code",
   "execution_count": null,
   "metadata": {},
   "outputs": [],
   "source": [
    "from mpl_toolkits.basemap import Basemap\n",
    "import matplotlib.pyplot as plt\n",
    "import numpy as np\n",
    "import warnings\n",
    "warnings.filterwarnings('ignore')\n",
    "\n",
    "lat = 39.175, 39.200\n",
    "lon = -96.59, -96.55\n",
    "\n",
    "plt.figure(figsize=(12, 12))\n",
    "M = Basemap(projection='cyl', epsg=6923,\n",
    "            llcrnrlat=lat[0], llcrnrlon=lon[0],\n",
    "            urcrnrlat=lat[1], urcrnrlon=lon[1], resolution='h')\n",
    "M.arcgisimage(service='Canvas/World_Dark_Gray_Base', xpixels=1000)\n",
    "xx_p, yy_p = M(xx, yy)\n",
    "M.scatter(xx_p, yy_p, c=times, cmap='plasma', s=250, alpha=0.6)\n",
    "M.plot(xx_p[0], yy_p[0], 'gv')\n",
    "M.plot(xx_p[-1], yy_p[-1], 'r^')\n",
    "M.colorbar().set_label('time (s)')"
   ]
  }
 ],
 "metadata": {
  "celltoolbar": "Slideshow",
  "kernelspec": {
   "display_name": "Python 3",
   "language": "python",
   "name": "python3"
  },
  "language_info": {
   "codemirror_mode": {
    "name": "ipython",
    "version": 3
   },
   "file_extension": ".py",
   "mimetype": "text/x-python",
   "name": "python",
   "nbconvert_exporter": "python",
   "pygments_lexer": "ipython3",
   "version": "3.8.6"
  },
  "rise": {
   "scroll": true
  }
 },
 "nbformat": 4,
 "nbformat_minor": 2
}
