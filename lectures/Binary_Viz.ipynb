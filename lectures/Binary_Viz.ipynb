{
 "cells": [
  {
   "cell_type": "markdown",
   "metadata": {
    "slideshow": {
     "slide_type": "slide"
    }
   },
   "source": [
    "# Binary Viz\n",
    "\n",
    "Interactive visualization is almost synonymous with \"big data.\"  Largely, such data is binary in format, and advanced tools are needed to render graphical interpretations of the data.  Here, we look at two of these: the [VisIt](https://wci.llnl.gov/simulation/computer-codes/visit/) code developed at LLNL and the [Mayavi](https://docs.enthought.com/mayavi/mayavi/) module available in Python and elsewhere.  Lots of tools are omitted from this discussion based on my own familiarity with the tools.  [Paraview](https://www.paraview.org/) is a good alternative to VisIt, and the [VTK](https://vtk.org/) framework is a highly configurable tool for custom viz."
   ]
  },
  {
   "cell_type": "markdown",
   "metadata": {
    "slideshow": {
     "slide_type": "slide"
    }
   },
   "source": [
    "## VisIt\n",
    "\n",
    "The VisIt tool support a variety of file formats, including VTK and Silo.  We already know VTK and have some files ready to inspect.  VisIt also provides a lot of [example data](https://wci.llnl.gov/simulation/computer-codes/visit/datafiles) in a variety of formats.  Because VisIt is a standalone tool, these notes are more of an outline than worked examples."
   ]
  },
  {
   "cell_type": "markdown",
   "metadata": {
    "slideshow": {
     "slide_type": "subslide"
    }
   },
   "source": [
    "### Rectilinear Grid Data\n",
    "\n",
    " - Let's load and, possibly, refine our mesh data from earlier.\n",
    " - Slicing, pseudocolors, and more."
   ]
  },
  {
   "cell_type": "markdown",
   "metadata": {
    "slideshow": {
     "slide_type": "subslide"
    }
   },
   "source": [
    "### Unstructured Point Data\n",
    "\n",
    "- Can we do anything cool with the particle points?"
   ]
  },
  {
   "cell_type": "markdown",
   "metadata": {
    "slideshow": {
     "slide_type": "subslide"
    }
   },
   "source": [
    "### The Unknown\n",
    "\n",
    " - We've got a big file and little clue what it is.  Figure it out!"
   ]
  },
  {
   "cell_type": "markdown",
   "metadata": {
    "slideshow": {
     "slide_type": "subslide"
    }
   },
   "source": [
    "### The Python API\n",
    "\n",
    "Let's automate that last scene with Python.  "
   ]
  },
  {
   "cell_type": "markdown",
   "metadata": {
    "slideshow": {
     "slide_type": "subslide"
    }
   },
   "source": [
    "First, we need Python 2.  With conda, we can get that by making a new environment:\n",
    "\n",
    "```\n",
    "conda create --name py2 python=2.7\n",
    "conda activate py2\n",
    "```\n",
    "\n",
    "If you do this, your terminal prompt will be something like \n",
    "\n",
    "```\n",
    "(py2) lovato@billboard$\n",
    "```\n",
    "\n",
    "instead of \n",
    "\n",
    "```\n",
    "(base) burn@chief$\n",
    "```"
   ]
  },
  {
   "cell_type": "markdown",
   "metadata": {
    "slideshow": {
     "slide_type": "subslide"
    }
   },
   "source": [
    "Then, either in the terminal (for one time) or your `.bashrc` file (forever), execute the following (but change `robertsj/opt` to whatever you need)\n",
    "\n",
    "```\n",
    "VISIT=/home/robertsj/opt/visit3_1_3.linux-x86_64/\n",
    "export PATH=$PATH:$VISIT/bin\n",
    "export LD_LIBRARY_PATH=$LD_LIBRARY_PATH:$VISIT/3.1.3/linux-x86_64/lib\n",
    "export PYTHONPATH=$VISIT/3.1.3/linux-x86_64/lib/site-packages\n",
    "```"
   ]
  },
  {
   "cell_type": "markdown",
   "metadata": {
    "slideshow": {
     "slide_type": "subslide"
    }
   },
   "source": [
    "Then, use the following code:\n",
    "\n",
    "```python\n",
    "import visit\n",
    "visit.Launch()\n",
    "visit.ShowAllWindows()\n",
    "# ensure you have CThead_mid.silo in the right location\n",
    "visit.OpenDatabase(\"CThead_mid.silo\")\n",
    "visit.AddPlot(\"Pseudocolor\", \"head\")\n",
    "visit.AddOperator(\"Slice\")\n",
    "s = visit.SliceAttributes()\n",
    "s.originType = s.Intercept\n",
    "s.axisType = s.ZAxis\n",
    "s.originIntercept = 60.0\n",
    "visit.SetOperatorOptions(s)\n",
    "visit.DrawPlots()\n",
    "```"
   ]
  },
  {
   "cell_type": "markdown",
   "metadata": {
    "slideshow": {
     "slide_type": "slide"
    }
   },
   "source": [
    "## Mayavi"
   ]
  },
  {
   "cell_type": "markdown",
   "metadata": {
    "slideshow": {
     "slide_type": "subslide"
    }
   },
   "source": [
    "### The Rectilinear Grid Revisited (Quickly)\n",
    "\n",
    "Make sure to install Mayavi with `conda install mayavi`.  Then, you can\n",
    "run the following code (here or as a script):"
   ]
  },
  {
   "cell_type": "code",
   "execution_count": null,
   "metadata": {
    "slideshow": {
     "slide_type": "fragment"
    }
   },
   "outputs": [],
   "source": [
    "import mayavi\n",
    "from mayavi import mlab\n",
    "f = mlab.figure()      # Returns the current scene.\n",
    "engine = mlab.get_engine() # Returns the running mayavi engine.\n",
    "source = engine.open(\"rectlin.vtk\")\n",
    "engine.add_source(source)\n",
    "surface = mayavi.modules.api.Surface()\n",
    "engine.add_module(surface)\n",
    "mlab.show() # Opens up interactive GUI.  You can also script\n",
    "f.scene.save_png(\"mayavi.png\") # views and save the scene"
   ]
  }
 ],
 "metadata": {
  "celltoolbar": "Slideshow",
  "kernelspec": {
   "display_name": "Python 3",
   "language": "python",
   "name": "python3"
  },
  "language_info": {
   "codemirror_mode": {
    "name": "ipython",
    "version": 3
   },
   "file_extension": ".py",
   "mimetype": "text/x-python",
   "name": "python",
   "nbconvert_exporter": "python",
   "pygments_lexer": "ipython3",
   "version": "3.8.6"
  }
 },
 "nbformat": 4,
 "nbformat_minor": 4
}
