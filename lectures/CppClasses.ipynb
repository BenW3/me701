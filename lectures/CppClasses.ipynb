{
 "cells": [
  {
   "cell_type": "markdown",
   "metadata": {
    "slideshow": {
     "slide_type": "slide"
    }
   },
   "source": [
    "# C++ Classes\n",
    "\n",
    "In this lesson, we'll introduce how to define and use classes in C++. We will use many of the examples provided in the Python-based, object-oriented part of the class for easy comparisons.\n"
   ]
  },
  {
   "cell_type": "markdown",
   "metadata": {
    "slideshow": {
     "slide_type": "subslide"
    }
   },
   "source": [
    "## Required Preparation\n",
    "\n",
    " - Read Chapters 8, 9 and 14 of Allen Downey, *Think C++*; it's available for free [online](http://greenteapress.com/thinkcpp/thinkCScpp.pdf).  Note, 8 and 9 deal with C++ `struct`, which is equivalent to a `class` with one small difference.  Hence, learning about `struct` is just as useful. \n",
    " - Review the Python object-oriented slides.\n",
    " - Get this [repository](https://github.com/me701/cpp_classes)\n",
    " "
   ]
  },
  {
   "cell_type": "markdown",
   "metadata": {
    "slideshow": {
     "slide_type": "slide"
    }
   },
   "source": [
    "## Classes \n",
    "\n",
    "A `class` does one or both of the following: it **encapsulates data** and it provides **methods** for doing things with that data.\n",
    "\n",
    "Basic structure:\n",
    "\n",
    "```c++\n",
    "class Foo\n",
    "{\n",
    "    \n",
    "public:\n",
    "    \n",
    "    // Constructor (like __init__)\n",
    "    Foo(int arg1, double arg2, ...); \n",
    "    \n",
    "    // Zero or more public methods.\n",
    "    double public_method(char* arg1, double* arg2, ...);\n",
    "    \n",
    "    // Zero or more public member variables\n",
    "    int my_public_value;\n",
    "      \n",
    "private: // what about \"protected\"?\n",
    "    \n",
    "    // Zero or more private methods.\n",
    "    void public_method(char* arg1, double* arg2, ...);\n",
    "    \n",
    "    // One or more private member variables.\n",
    "    float _my_hidden_value;\n",
    "}\n",
    "```"
   ]
  },
  {
   "cell_type": "code",
   "execution_count": 1,
   "metadata": {
    "slideshow": {
     "slide_type": "subslide"
    }
   },
   "outputs": [],
   "source": [
    "// class declaration and definition all in one\n",
    "class Complex1\n",
    "{\n",
    "public:\n",
    "    Complex1(const double rval, const double ival)\n",
    "        : r(rval), i(ival) // <-- this is called an initialization list\n",
    "    {\n",
    "        // if we deleted the \": r(rval), i(ival) \" line, we could instead do\n",
    "        // r = rval; \n",
    "        // i = ival; \n",
    "    } \n",
    "    double r;  // good to use argument names distinct \n",
    "    double i;  // from member variable names\n",
    "};"
   ]
  },
  {
   "cell_type": "code",
   "execution_count": 2,
   "metadata": {
    "slideshow": {
     "slide_type": "subslide"
    }
   },
   "outputs": [],
   "source": [
    "Complex1 C1(1.23, 2.45);"
   ]
  },
  {
   "cell_type": "code",
   "execution_count": 3,
   "metadata": {
    "slideshow": {
     "slide_type": "fragment"
    }
   },
   "outputs": [
    {
     "data": {
      "text/plain": [
       "@0x7f161dda2020"
      ]
     },
     "execution_count": 3,
     "metadata": {},
     "output_type": "execute_result"
    }
   ],
   "source": [
    "C1 // hmm."
   ]
  },
  {
   "cell_type": "code",
   "execution_count": 4,
   "metadata": {
    "slideshow": {
     "slide_type": "fragment"
    }
   },
   "outputs": [
    {
     "data": {
      "text/plain": [
       "1.2300000"
      ]
     },
     "execution_count": 4,
     "metadata": {},
     "output_type": "execute_result"
    }
   ],
   "source": [
    "C1.r"
   ]
  },
  {
   "cell_type": "code",
   "execution_count": 5,
   "metadata": {
    "slideshow": {
     "slide_type": "fragment"
    }
   },
   "outputs": [
    {
     "data": {
      "text/plain": [
       "3.1400000"
      ]
     },
     "execution_count": 5,
     "metadata": {},
     "output_type": "execute_result"
    }
   ],
   "source": [
    "C1.r = 3.14;\n",
    "C1.r"
   ]
  },
  {
   "cell_type": "markdown",
   "metadata": {
    "slideshow": {
     "slide_type": "subslide"
    }
   },
   "source": [
    "That's sort of the \"naive\" way based on our Python model.  Here's the more typical way to do things:"
   ]
  },
  {
   "cell_type": "code",
   "execution_count": 6,
   "metadata": {
    "slideshow": {
     "slide_type": "subslide"
    }
   },
   "outputs": [],
   "source": [
    "// class declaration and definition all in one\n",
    "class Complex2\n",
    "{\n",
    "public:\n",
    "    Complex2(const double rval, const double ival)\n",
    "        : _r(rval), _i(ival) // <-- this is called an initialization list\n",
    "    {\n",
    "      /* ... */ \n",
    "    } \n",
    "    double const r()\n",
    "    {\n",
    "        return _r;\n",
    "    }\n",
    "    double const i()\n",
    "    {\n",
    "        return _i;\n",
    "    }\n",
    "private:\n",
    "    const double _r; // with these as const, we *have* to\n",
    "    const double _i; // use the initialization list and not _r = rval;\n",
    "};"
   ]
  },
  {
   "cell_type": "code",
   "execution_count": 7,
   "metadata": {
    "slideshow": {
     "slide_type": "subslide"
    }
   },
   "outputs": [],
   "source": [
    "Complex2 C2(1.23, 2.34);"
   ]
  },
  {
   "cell_type": "code",
   "execution_count": 8,
   "metadata": {},
   "outputs": [
    {
     "data": {
      "text/plain": [
       "@0x7f161dda2030"
      ]
     },
     "execution_count": 8,
     "metadata": {},
     "output_type": "execute_result"
    }
   ],
   "source": [
    "C2"
   ]
  },
  {
   "cell_type": "code",
   "execution_count": 9,
   "metadata": {},
   "outputs": [
    {
     "data": {
      "text/plain": [
       "1.2300000"
      ]
     },
     "execution_count": 9,
     "metadata": {},
     "output_type": "execute_result"
    }
   ],
   "source": [
    "C2.r()"
   ]
  },
  {
   "cell_type": "code",
   "execution_count": 11,
   "metadata": {},
   "outputs": [],
   "source": [
    "//C2.r() = 3.14 // nope!"
   ]
  }
 ],
 "metadata": {
  "celltoolbar": "Slideshow",
  "kernelspec": {
   "display_name": "C++11",
   "language": "C++11",
   "name": "xcpp11"
  },
  "language_info": {
   "codemirror_mode": "text/x-c++src",
   "file_extension": ".cpp",
   "mimetype": "text/x-c++src",
   "name": "c++",
   "version": "11"
  },
  "livereveal": {
   "scroll": true
  }
 },
 "nbformat": 4,
 "nbformat_minor": 2
}
