{
 "cells": [
  {
   "cell_type": "code",
   "execution_count": 1,
   "metadata": {},
   "outputs": [
    {
     "name": "stdout",
     "output_type": "stream",
     "text": [
      "1\n"
     ]
    }
   ],
   "source": [
    "a = 1\n",
    "print(a)"
   ]
  },
  {
   "cell_type": "markdown",
   "metadata": {},
   "source": [
    "# Title\n",
    "\n",
    "## Subtitle\n",
    "\n",
    "laskdjglkjsdglkjdsfg\n",
    "\n",
    "  - 1\n",
    "  - 2 `lgjsfaglkjasdfg`\n",
    "  \n",
    "```python\n",
    "a = 1\n",
    "```\n",
    "\n",
    "   - $E = mc^2$\n",
    "   \n",
    "   \n",
    "$$\n",
    " a = 1\n",
    "$$"
   ]
  },
  {
   "cell_type": "code",
   "execution_count": 2,
   "metadata": {},
   "outputs": [],
   "source": [
    "import sympy as sy\n",
    "sy.init_printing()"
   ]
  },
  {
   "cell_type": "code",
   "execution_count": 3,
   "metadata": {},
   "outputs": [],
   "source": [
    "a, b, c = sy.symbols('a b c')\n",
    "x = sy.Symbol('x')"
   ]
  },
  {
   "cell_type": "code",
   "execution_count": 4,
   "metadata": {},
   "outputs": [],
   "source": [
    "p = a*x**2 + b*x + c\n",
    "eq = sy.Eq(p, 0)\n",
    "sols = sy.solve(eq, x)\n",
    "sol0 = sols[0].subs({a: 1, b: 2, c:3})"
   ]
  },
  {
   "cell_type": "code",
   "execution_count": 5,
   "metadata": {},
   "outputs": [
    {
     "data": {
      "image/png": "[encoded data removed]",
      "text/latex": [
       "$\\displaystyle -1.0 + 1.4142135623731 i$"
      ],
      "text/plain": [
       "-1.0 + 1.4142135623731⋅ⅈ"
      ]
     },
     "execution_count": 5,
     "metadata": {},
     "output_type": "execute_result"
    }
   ],
   "source": [
    "sol0.evalf()"
   ]
  },
  {
   "cell_type": "code",
   "execution_count": 6,
   "metadata": {},
   "outputs": [
    {
     "data": {
      "image/png": "[encoded data removed]",
      "text/latex": [
       "$\\displaystyle 1.234$"
      ],
      "text/plain": [
       "1.234"
      ]
     },
     "execution_count": 6,
     "metadata": {},
     "output_type": "execute_result"
    }
   ],
   "source": [
    "1.234"
   ]
  },
  {
   "cell_type": "markdown",
   "metadata": {},
   "source": [
    "$$\n",
    "-k\\frac{d^2 T}{dx^2} = q \\quad T(0) = 0 \\quad T(10) = a\n",
    "$$"
   ]
  },
  {
   "cell_type": "code",
   "execution_count": 7,
   "metadata": {},
   "outputs": [],
   "source": [
    "k, q, a, x = sy.symbols('k q a x')\n",
    "T = sy.Function(\"T\")"
   ]
  },
  {
   "cell_type": "code",
   "execution_count": 8,
   "metadata": {},
   "outputs": [
    {
     "data": {
      "image/png": "[encoded data removed]",
      "text/latex": [
       "$\\displaystyle - k \\frac{d^{2}}{d x^{2}} T{\\left(x \\right)} = q$"
      ],
      "text/plain": [
       "     2          \n",
       "    d           \n",
       "-k⋅───(T(x)) = q\n",
       "     2          \n",
       "   dx           "
      ]
     },
     "execution_count": 8,
     "metadata": {},
     "output_type": "execute_result"
    }
   ],
   "source": [
    "ode = sy.Eq(-k * sy.diff(T(x), x, 2),  q)\n",
    "ode"
   ]
  },
  {
   "cell_type": "code",
   "execution_count": 9,
   "metadata": {},
   "outputs": [
    {
     "name": "stdout",
     "output_type": "stream",
     "text": [
      "- k \\frac{d^{2}}{d x^{2}} T{\\left(x \\right)} = q\n"
     ]
    }
   ],
   "source": [
    "print(sy.latex(ode))"
   ]
  },
  {
   "cell_type": "markdown",
   "metadata": {},
   "source": [
    "$$\n",
    "- k \\frac{d^{2}}{d x^{2}} T{\\left(x \\right)} = q\n",
    "$$"
   ]
  },
  {
   "cell_type": "code",
   "execution_count": 10,
   "metadata": {},
   "outputs": [
    {
     "data": {
      "image/png": "[encoded data removed]",
      "text/latex": [
       "$\\displaystyle - k \\frac{d^{2}}{d x^{2}} T{\\left(x \\right)} = q$"
      ],
      "text/plain": [
       "     2          \n",
       "    d           \n",
       "-k⋅───(T(x)) = q\n",
       "     2          \n",
       "   dx           "
      ]
     },
     "execution_count": 10,
     "metadata": {},
     "output_type": "execute_result"
    }
   ],
   "source": [
    "ode"
   ]
  },
  {
   "cell_type": "code",
   "execution_count": 11,
   "metadata": {},
   "outputs": [
    {
     "data": {
      "image/png": "[encoded data removed]",
      "text/latex": [
       "$\\displaystyle C_{1} + C_{2} x - \\frac{q x^{2}}{2 k}$"
      ],
      "text/plain": [
       "               2\n",
       "            q⋅x \n",
       "C₁ + C₂⋅x - ────\n",
       "            2⋅k "
      ]
     },
     "execution_count": 11,
     "metadata": {},
     "output_type": "execute_result"
    }
   ],
   "source": [
    "ode_sol = sy.dsolve(ode).rhs\n",
    "ode_sol"
   ]
  },
  {
   "cell_type": "code",
   "execution_count": 12,
   "metadata": {},
   "outputs": [
    {
     "data": {
      "image/png": "[encoded data removed]",
      "text/latex": [
       "$\\displaystyle \\left( C_{1} = 0, \\  C_{1} + 10 C_{2} - \\frac{50 q}{k} = a\\right)$"
      ],
      "text/plain": [
       "⎛                     50⋅q    ⎞\n",
       "⎜C₁ = 0, C₁ + 10⋅C₂ - ──── = a⎟\n",
       "⎝                      k      ⎠"
      ]
     },
     "execution_count": 12,
     "metadata": {},
     "output_type": "execute_result"
    }
   ],
   "source": [
    "bc1 = sy.Eq(ode_sol.subs(x, 0), 0)\n",
    "bc2 = sy.Eq(ode_sol.subs(x, 10), a)\n",
    "bc1, bc2"
   ]
  },
  {
   "cell_type": "code",
   "execution_count": 13,
   "metadata": {},
   "outputs": [
    {
     "data": {
      "image/png": "[encoded data removed]",
      "text/latex": [
       "$\\displaystyle \\left( C_{1}, \\  C_{2}\\right)$"
      ],
      "text/plain": [
       "(C₁, C₂)"
      ]
     },
     "execution_count": 13,
     "metadata": {},
     "output_type": "execute_result"
    }
   ],
   "source": [
    "C1, C2 = sy.symbols('C1 C2')\n",
    "C1, C2"
   ]
  },
  {
   "cell_type": "code",
   "execution_count": 14,
   "metadata": {},
   "outputs": [
    {
     "data": {
      "image/png": "[encoded data removed]",
      "text/latex": [
       "$\\displaystyle \\left\\{ C_{1} : 0, \\  C_{2} : \\frac{a}{10} + \\frac{5 q}{k}\\right\\}$"
      ],
      "text/plain": [
       "⎧           a    5⋅q⎫\n",
       "⎨C₁: 0, C₂: ── + ───⎬\n",
       "⎩           10    k ⎭"
      ]
     },
     "execution_count": 14,
     "metadata": {},
     "output_type": "execute_result"
    }
   ],
   "source": [
    "coefs = sy.solve([bc1, bc2], C1, C2)\n",
    "coefs"
   ]
  },
  {
   "cell_type": "code",
   "execution_count": 15,
   "metadata": {},
   "outputs": [
    {
     "data": {
      "image/png": "[encoded data removed]",
      "text/latex": [
       "$\\displaystyle x \\left(\\frac{a}{10} + \\frac{5 q}{k}\\right) - \\frac{q x^{2}}{2 k}$"
      ],
      "text/plain": [
       "                  2\n",
       "  ⎛a    5⋅q⎞   q⋅x \n",
       "x⋅⎜── + ───⎟ - ────\n",
       "  ⎝10    k ⎠   2⋅k "
      ]
     },
     "execution_count": 15,
     "metadata": {},
     "output_type": "execute_result"
    }
   ],
   "source": [
    "ode_sol.subs(coefs)"
   ]
  },
  {
   "cell_type": "code",
   "execution_count": 16,
   "metadata": {},
   "outputs": [
    {
     "data": {
      "text/plain": [
       "['ccode',\n",
       " 'cxxcode',\n",
       " 'fcode',\n",
       " 'glsl_code',\n",
       " 'jscode',\n",
       " 'julia_code',\n",
       " 'mathematica_code',\n",
       " 'octave_code',\n",
       " 'pycode',\n",
       " 'rcode',\n",
       " 'rust_code']"
      ]
     },
     "execution_count": 16,
     "metadata": {},
     "output_type": "execute_result"
    }
   ],
   "source": [
    "# convert to code!\n",
    "[i for i in dir(sy.printing) if 'code' in i and not 'print' in i]"
   ]
  },
  {
   "cell_type": "code",
   "execution_count": 17,
   "metadata": {},
   "outputs": [
    {
     "data": {
      "text/plain": [
       "'x*((1.0/10.0)*a + 5*q/k) - 1.0/2.0*q*pow(x, 2)/k'"
      ]
     },
     "execution_count": 17,
     "metadata": {},
     "output_type": "execute_result"
    }
   ],
   "source": [
    "sy.printing.ccode(ode_sol.subs(coefs))"
   ]
  },
  {
   "cell_type": "code",
   "execution_count": 18,
   "metadata": {},
   "outputs": [
    {
     "data": {
      "text/plain": [
       "'x*((1/10)*a + 5*q/k) - 1/2*q*x**2/k'"
      ]
     },
     "execution_count": 18,
     "metadata": {},
     "output_type": "execute_result"
    }
   ],
   "source": [
    "sy.printing.pycode(ode_sol.subs(coefs))"
   ]
  }
 ],
 "metadata": {
  "kernelspec": {
   "display_name": "Python 3",
   "language": "python",
   "name": "python3"
  },
  "language_info": {
   "codemirror_mode": {
    "name": "ipython",
    "version": 3
   },
   "file_extension": ".py",
   "mimetype": "text/x-python",
   "name": "python",
   "nbconvert_exporter": "python",
   "pygments_lexer": "ipython3",
   "version": "3.7.3"
  }
 },
 "nbformat": 4,
 "nbformat_minor": 2
}
